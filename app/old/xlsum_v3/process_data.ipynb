{
 "cells": [
  {
   "cell_type": "code",
   "execution_count": 150,
   "id": "initial_id",
   "metadata": {
    "collapsed": true,
    "ExecuteTime": {
     "end_time": "2024-11-05T14:40:24.646270Z",
     "start_time": "2024-11-05T14:40:24.459810Z"
    }
   },
   "outputs": [],
   "source": [
    "from pathlib import Path\n",
    "import json\n",
    "\n",
    "import pandas as pd\n",
    "\n",
    "LANGUAGE = 'yoruba'\n",
    "\n",
    "# Read the data\n",
    "with open(f\"../xlsum_v3/{LANGUAGE}/gpt.csv\") as f:\n",
    "    gpt_data = f.readlines()\n",
    "    gpt_data = pd.DataFrame([json.loads(_) for _ in gpt_data])\n",
    "    gpt_data.columns = ['q_idx', 'gpt_prediction', 'label']\n",
    "    \n",
    "with open(f\"../xlsum_v3/{LANGUAGE}/gemini.csv\") as f:\n",
    "    gemini_data = f.readlines()\n",
    "    gemini_data = pd.DataFrame([json.loads(_) for _ in gemini_data])\n",
    "    gemini_data.columns = ['q_idx', 'gemini_prediction', 'label']\n",
    "    "
   ]
  },
  {
   "cell_type": "code",
   "execution_count": 151,
   "outputs": [],
   "source": [
    "union_data = pd.merge(gemini_data, gpt_data, on='q_idx')"
   ],
   "metadata": {
    "collapsed": false,
    "ExecuteTime": {
     "end_time": "2024-11-05T14:40:24.708487Z",
     "start_time": "2024-11-05T14:40:24.665297Z"
    }
   },
   "id": "ebbaa5a63064ef1"
  },
  {
   "cell_type": "code",
   "execution_count": 152,
   "outputs": [],
   "source": [
    "union_data= union_data.rename(columns={'label_x': 'label'})\n",
    "del union_data['label_y']"
   ],
   "metadata": {
    "collapsed": false,
    "ExecuteTime": {
     "end_time": "2024-11-05T14:40:25.197551Z",
     "start_time": "2024-11-05T14:40:25.191985Z"
    }
   },
   "id": "419b4cf5e18e3788"
  },
  {
   "cell_type": "code",
   "execution_count": 153,
   "outputs": [],
   "source": [
    "union_data = union_data.sort_values(by=\"q_idx\")\n",
    "union_data = union_data.reset_index()"
   ],
   "metadata": {
    "collapsed": false,
    "ExecuteTime": {
     "end_time": "2024-11-05T14:40:25.514013Z",
     "start_time": "2024-11-05T14:40:25.508430Z"
    }
   },
   "id": "ffe64f3c5b185448"
  },
  {
   "cell_type": "code",
   "execution_count": 154,
   "outputs": [
    {
     "data": {
      "text/plain": "     index  q_idx                                  gemini_prediction  \\\n0        0    403  Àní àkókò tó fi máa jẹ́ àgbààrun ṣùgbọ̀n ní ó ...   \n1        1    408  **Gbogbo Akopọ**\\n\\nÌwé \"Things Fall Apart\" kú...   \n2        2    411  Akopọ ti awọn ọrọ\\n\\n* Ijade gbona han\\n* VAR\\...   \n3        3    412                        <Ajalu>\\n\\n* Ijamba alupupu   \n4        4    414    Awọn oṣere tiata Yoruba tun ṣe ọdun naa gbọgbẹ.   \n..     ...    ...                                                ...   \n216    216    784  <ọrọ> ẹgbẹ\\n\\n- Agba ẹgbẹ PDP\\n- Akọwe ẹgbẹ\\n-...   \n217    217    786  CSP Francis Osagie Erhabor, gbɔŋlɔŋlɔ tɔŋu tɔŋ...   \n218    218    787  **Akopọ ọ̀rọ̀**\\n\\n**Akọ̀ròrò Òfurufú**\\n\\nSón...   \n219    219    788  Ọba fe Adele Temilólu gb'iyẹ lọ araṣo k'ó lọ́ ...   \n220    220    789  **Ibikibi tí igi ìfèsèwòńsẹ náà wọ̀ sí, àṣekág...   \n\n                                                 label  \\\n0    Lọ́dọọdún àwọn musulumi jákejado àgbáye a máa ...   \n1    Ìwé ‘Things Fall Apart’ tí Chinua Achebe kọ jẹ...   \n2    Ibi tagbalagba Jose Mourinho de duro,ọmọde Fra...   \n3    Aarẹ orilẹede Naijiria ti tako iroyin to n tan...   \n4    Keresimesi ọdun yii o yẹ, o dun, o si larinrin...   \n..                                                 ...   \n216  Gomina ana nipinlẹ Ekiti Ayodele Fayose ti fes...   \n217  Ọ̀gá ọlọ́pàá kan ti kọ̀wé fi iṣẹ́ ọlọ́pàá sílẹ...   \n218  Bi sunkẹrẹ-fakẹrẹ ọkọ ba da ọ duro, ma fi ṣe i...   \n219  Laipẹ yii ni Adele Ọba Alaade ilu kan labẹ ilu...   \n220  Ni ọjọ kini oṣu kẹfa, ikọ Ilẹ Gẹẹsi meji Liver...   \n\n                                        gpt_prediction  \n0    Ọjọ́ kan ni ààwẹ yóò ti dára láti fọ idọti ara...  \n1    ti a fun ni Yoruba. Ìjádẹ yẹ ki o jẹ ṣọkí bí o...  \n2    Ọrọ ti a ti fun ni akopọ ti a fun ifẹsẹwọnsẹ n...  \n3    Awọn iroyin miran ti ẹ le nifẹ si ni:\\n- Yusuf...  \n4    Ọrọ ti a ti kọ ni fun awọn oṣere tiata Yoruba ...  \n..                                                 ...  \n216  ni Ekiti ni o wa ni ilu naa. O sọ pe o ti gba ...  \n217  Ọrọ ti a fun CSP Francis Osagie Erhabor ni níp...  \n218  Ọrọ ti a sọ fun kẹyin ni wi pe ko ṣe jẹjẹ. Bi ...  \n219  Ọmọọba Temilolu ti sọ pe, o ti fi oun jẹ Adele...  \n220  Ọpọlọpọ ololufẹ ere bọọlu yoo ranti wipe aṣeka...  \n\n[221 rows x 5 columns]",
      "text/html": "<div>\n<style scoped>\n    .dataframe tbody tr th:only-of-type {\n        vertical-align: middle;\n    }\n\n    .dataframe tbody tr th {\n        vertical-align: top;\n    }\n\n    .dataframe thead th {\n        text-align: right;\n    }\n</style>\n<table border=\"1\" class=\"dataframe\">\n  <thead>\n    <tr style=\"text-align: right;\">\n      <th></th>\n      <th>index</th>\n      <th>q_idx</th>\n      <th>gemini_prediction</th>\n      <th>label</th>\n      <th>gpt_prediction</th>\n    </tr>\n  </thead>\n  <tbody>\n    <tr>\n      <th>0</th>\n      <td>0</td>\n      <td>403</td>\n      <td>Àní àkókò tó fi máa jẹ́ àgbààrun ṣùgbọ̀n ní ó ...</td>\n      <td>Lọ́dọọdún àwọn musulumi jákejado àgbáye a máa ...</td>\n      <td>Ọjọ́ kan ni ààwẹ yóò ti dára láti fọ idọti ara...</td>\n    </tr>\n    <tr>\n      <th>1</th>\n      <td>1</td>\n      <td>408</td>\n      <td>**Gbogbo Akopọ**\\n\\nÌwé \"Things Fall Apart\" kú...</td>\n      <td>Ìwé ‘Things Fall Apart’ tí Chinua Achebe kọ jẹ...</td>\n      <td>ti a fun ni Yoruba. Ìjádẹ yẹ ki o jẹ ṣọkí bí o...</td>\n    </tr>\n    <tr>\n      <th>2</th>\n      <td>2</td>\n      <td>411</td>\n      <td>Akopọ ti awọn ọrọ\\n\\n* Ijade gbona han\\n* VAR\\...</td>\n      <td>Ibi tagbalagba Jose Mourinho de duro,ọmọde Fra...</td>\n      <td>Ọrọ ti a ti fun ni akopọ ti a fun ifẹsẹwọnsẹ n...</td>\n    </tr>\n    <tr>\n      <th>3</th>\n      <td>3</td>\n      <td>412</td>\n      <td>&lt;Ajalu&gt;\\n\\n* Ijamba alupupu</td>\n      <td>Aarẹ orilẹede Naijiria ti tako iroyin to n tan...</td>\n      <td>Awọn iroyin miran ti ẹ le nifẹ si ni:\\n- Yusuf...</td>\n    </tr>\n    <tr>\n      <th>4</th>\n      <td>4</td>\n      <td>414</td>\n      <td>Awọn oṣere tiata Yoruba tun ṣe ọdun naa gbọgbẹ.</td>\n      <td>Keresimesi ọdun yii o yẹ, o dun, o si larinrin...</td>\n      <td>Ọrọ ti a ti kọ ni fun awọn oṣere tiata Yoruba ...</td>\n    </tr>\n    <tr>\n      <th>...</th>\n      <td>...</td>\n      <td>...</td>\n      <td>...</td>\n      <td>...</td>\n      <td>...</td>\n    </tr>\n    <tr>\n      <th>216</th>\n      <td>216</td>\n      <td>784</td>\n      <td>&lt;ọrọ&gt; ẹgbẹ\\n\\n- Agba ẹgbẹ PDP\\n- Akọwe ẹgbẹ\\n-...</td>\n      <td>Gomina ana nipinlẹ Ekiti Ayodele Fayose ti fes...</td>\n      <td>ni Ekiti ni o wa ni ilu naa. O sọ pe o ti gba ...</td>\n    </tr>\n    <tr>\n      <th>217</th>\n      <td>217</td>\n      <td>786</td>\n      <td>CSP Francis Osagie Erhabor, gbɔŋlɔŋlɔ tɔŋu tɔŋ...</td>\n      <td>Ọ̀gá ọlọ́pàá kan ti kọ̀wé fi iṣẹ́ ọlọ́pàá sílẹ...</td>\n      <td>Ọrọ ti a fun CSP Francis Osagie Erhabor ni níp...</td>\n    </tr>\n    <tr>\n      <th>218</th>\n      <td>218</td>\n      <td>787</td>\n      <td>**Akopọ ọ̀rọ̀**\\n\\n**Akọ̀ròrò Òfurufú**\\n\\nSón...</td>\n      <td>Bi sunkẹrẹ-fakẹrẹ ọkọ ba da ọ duro, ma fi ṣe i...</td>\n      <td>Ọrọ ti a sọ fun kẹyin ni wi pe ko ṣe jẹjẹ. Bi ...</td>\n    </tr>\n    <tr>\n      <th>219</th>\n      <td>219</td>\n      <td>788</td>\n      <td>Ọba fe Adele Temilólu gb'iyẹ lọ araṣo k'ó lọ́ ...</td>\n      <td>Laipẹ yii ni Adele Ọba Alaade ilu kan labẹ ilu...</td>\n      <td>Ọmọọba Temilolu ti sọ pe, o ti fi oun jẹ Adele...</td>\n    </tr>\n    <tr>\n      <th>220</th>\n      <td>220</td>\n      <td>789</td>\n      <td>**Ibikibi tí igi ìfèsèwòńsẹ náà wọ̀ sí, àṣekág...</td>\n      <td>Ni ọjọ kini oṣu kẹfa, ikọ Ilẹ Gẹẹsi meji Liver...</td>\n      <td>Ọpọlọpọ ololufẹ ere bọọlu yoo ranti wipe aṣeka...</td>\n    </tr>\n  </tbody>\n</table>\n<p>221 rows × 5 columns</p>\n</div>"
     },
     "execution_count": 154,
     "metadata": {},
     "output_type": "execute_result"
    }
   ],
   "source": [
    "union_data"
   ],
   "metadata": {
    "collapsed": false,
    "ExecuteTime": {
     "end_time": "2024-11-05T14:40:25.796476Z",
     "start_time": "2024-11-05T14:40:25.771711Z"
    }
   },
   "id": "8348458395764b"
  },
  {
   "cell_type": "markdown",
   "source": [],
   "metadata": {
    "collapsed": false
   },
   "id": "e6476b6a4a38b719"
  },
  {
   "cell_type": "code",
   "execution_count": 155,
   "outputs": [
    {
     "data": {
      "text/plain": "     index  q_idx                                  gemini_prediction  \\\n0        0    403  Àní àkókò tó fi máa jẹ́ àgbààrun ṣùgbọ̀n ní ó ...   \n1        1    408  **Gbogbo Akopọ**\\n\\nÌwé \"Things Fall Apart\" kú...   \n2        2    411  Akopọ ti awọn ọrọ\\n\\n* Ijade gbona han\\n* VAR\\...   \n3        3    412                        <Ajalu>\\n\\n* Ijamba alupupu   \n4        4    414    Awọn oṣere tiata Yoruba tun ṣe ọdun naa gbọgbẹ.   \n..     ...    ...                                                ...   \n216    216    784  <ọrọ> ẹgbẹ\\n\\n- Agba ẹgbẹ PDP\\n- Akọwe ẹgbẹ\\n-...   \n217    217    786  CSP Francis Osagie Erhabor, gbɔŋlɔŋlɔ tɔŋu tɔŋ...   \n218    218    787  **Akopọ ọ̀rọ̀**\\n\\n**Akọ̀ròrò Òfurufú**\\n\\nSón...   \n219    219    788  Ọba fe Adele Temilólu gb'iyẹ lọ araṣo k'ó lọ́ ...   \n220    220    789  **Ibikibi tí igi ìfèsèwòńsẹ náà wọ̀ sí, àṣekág...   \n\n                                                 label  \\\n0    Lọ́dọọdún àwọn musulumi jákejado àgbáye a máa ...   \n1    Ìwé ‘Things Fall Apart’ tí Chinua Achebe kọ jẹ...   \n2    Ibi tagbalagba Jose Mourinho de duro,ọmọde Fra...   \n3    Aarẹ orilẹede Naijiria ti tako iroyin to n tan...   \n4    Keresimesi ọdun yii o yẹ, o dun, o si larinrin...   \n..                                                 ...   \n216  Gomina ana nipinlẹ Ekiti Ayodele Fayose ti fes...   \n217  Ọ̀gá ọlọ́pàá kan ti kọ̀wé fi iṣẹ́ ọlọ́pàá sílẹ...   \n218  Bi sunkẹrẹ-fakẹrẹ ọkọ ba da ọ duro, ma fi ṣe i...   \n219  Laipẹ yii ni Adele Ọba Alaade ilu kan labẹ ilu...   \n220  Ni ọjọ kini oṣu kẹfa, ikọ Ilẹ Gẹẹsi meji Liver...   \n\n                                        gpt_prediction  \n0    Ọjọ́ kan ni ààwẹ yóò ti dára láti fọ idọti ara...  \n1    ti a fun ni Yoruba. Ìjádẹ yẹ ki o jẹ ṣọkí bí o...  \n2    Ọrọ ti a ti fun ni akopọ ti a fun ifẹsẹwọnsẹ n...  \n3    Awọn iroyin miran ti ẹ le nifẹ si ni:\\n- Yusuf...  \n4    Ọrọ ti a ti kọ ni fun awọn oṣere tiata Yoruba ...  \n..                                                 ...  \n216  ni Ekiti ni o wa ni ilu naa. O sọ pe o ti gba ...  \n217  Ọrọ ti a fun CSP Francis Osagie Erhabor ni níp...  \n218  Ọrọ ti a sọ fun kẹyin ni wi pe ko ṣe jẹjẹ. Bi ...  \n219  Ọmọọba Temilolu ti sọ pe, o ti fi oun jẹ Adele...  \n220  Ọpọlọpọ ololufẹ ere bọọlu yoo ranti wipe aṣeka...  \n\n[221 rows x 5 columns]",
      "text/html": "<div>\n<style scoped>\n    .dataframe tbody tr th:only-of-type {\n        vertical-align: middle;\n    }\n\n    .dataframe tbody tr th {\n        vertical-align: top;\n    }\n\n    .dataframe thead th {\n        text-align: right;\n    }\n</style>\n<table border=\"1\" class=\"dataframe\">\n  <thead>\n    <tr style=\"text-align: right;\">\n      <th></th>\n      <th>index</th>\n      <th>q_idx</th>\n      <th>gemini_prediction</th>\n      <th>label</th>\n      <th>gpt_prediction</th>\n    </tr>\n  </thead>\n  <tbody>\n    <tr>\n      <th>0</th>\n      <td>0</td>\n      <td>403</td>\n      <td>Àní àkókò tó fi máa jẹ́ àgbààrun ṣùgbọ̀n ní ó ...</td>\n      <td>Lọ́dọọdún àwọn musulumi jákejado àgbáye a máa ...</td>\n      <td>Ọjọ́ kan ni ààwẹ yóò ti dára láti fọ idọti ara...</td>\n    </tr>\n    <tr>\n      <th>1</th>\n      <td>1</td>\n      <td>408</td>\n      <td>**Gbogbo Akopọ**\\n\\nÌwé \"Things Fall Apart\" kú...</td>\n      <td>Ìwé ‘Things Fall Apart’ tí Chinua Achebe kọ jẹ...</td>\n      <td>ti a fun ni Yoruba. Ìjádẹ yẹ ki o jẹ ṣọkí bí o...</td>\n    </tr>\n    <tr>\n      <th>2</th>\n      <td>2</td>\n      <td>411</td>\n      <td>Akopọ ti awọn ọrọ\\n\\n* Ijade gbona han\\n* VAR\\...</td>\n      <td>Ibi tagbalagba Jose Mourinho de duro,ọmọde Fra...</td>\n      <td>Ọrọ ti a ti fun ni akopọ ti a fun ifẹsẹwọnsẹ n...</td>\n    </tr>\n    <tr>\n      <th>3</th>\n      <td>3</td>\n      <td>412</td>\n      <td>&lt;Ajalu&gt;\\n\\n* Ijamba alupupu</td>\n      <td>Aarẹ orilẹede Naijiria ti tako iroyin to n tan...</td>\n      <td>Awọn iroyin miran ti ẹ le nifẹ si ni:\\n- Yusuf...</td>\n    </tr>\n    <tr>\n      <th>4</th>\n      <td>4</td>\n      <td>414</td>\n      <td>Awọn oṣere tiata Yoruba tun ṣe ọdun naa gbọgbẹ.</td>\n      <td>Keresimesi ọdun yii o yẹ, o dun, o si larinrin...</td>\n      <td>Ọrọ ti a ti kọ ni fun awọn oṣere tiata Yoruba ...</td>\n    </tr>\n    <tr>\n      <th>...</th>\n      <td>...</td>\n      <td>...</td>\n      <td>...</td>\n      <td>...</td>\n      <td>...</td>\n    </tr>\n    <tr>\n      <th>216</th>\n      <td>216</td>\n      <td>784</td>\n      <td>&lt;ọrọ&gt; ẹgbẹ\\n\\n- Agba ẹgbẹ PDP\\n- Akọwe ẹgbẹ\\n-...</td>\n      <td>Gomina ana nipinlẹ Ekiti Ayodele Fayose ti fes...</td>\n      <td>ni Ekiti ni o wa ni ilu naa. O sọ pe o ti gba ...</td>\n    </tr>\n    <tr>\n      <th>217</th>\n      <td>217</td>\n      <td>786</td>\n      <td>CSP Francis Osagie Erhabor, gbɔŋlɔŋlɔ tɔŋu tɔŋ...</td>\n      <td>Ọ̀gá ọlọ́pàá kan ti kọ̀wé fi iṣẹ́ ọlọ́pàá sílẹ...</td>\n      <td>Ọrọ ti a fun CSP Francis Osagie Erhabor ni níp...</td>\n    </tr>\n    <tr>\n      <th>218</th>\n      <td>218</td>\n      <td>787</td>\n      <td>**Akopọ ọ̀rọ̀**\\n\\n**Akọ̀ròrò Òfurufú**\\n\\nSón...</td>\n      <td>Bi sunkẹrẹ-fakẹrẹ ọkọ ba da ọ duro, ma fi ṣe i...</td>\n      <td>Ọrọ ti a sọ fun kẹyin ni wi pe ko ṣe jẹjẹ. Bi ...</td>\n    </tr>\n    <tr>\n      <th>219</th>\n      <td>219</td>\n      <td>788</td>\n      <td>Ọba fe Adele Temilólu gb'iyẹ lọ araṣo k'ó lọ́ ...</td>\n      <td>Laipẹ yii ni Adele Ọba Alaade ilu kan labẹ ilu...</td>\n      <td>Ọmọọba Temilolu ti sọ pe, o ti fi oun jẹ Adele...</td>\n    </tr>\n    <tr>\n      <th>220</th>\n      <td>220</td>\n      <td>789</td>\n      <td>**Ibikibi tí igi ìfèsèwòńsẹ náà wọ̀ sí, àṣekág...</td>\n      <td>Ni ọjọ kini oṣu kẹfa, ikọ Ilẹ Gẹẹsi meji Liver...</td>\n      <td>Ọpọlọpọ ololufẹ ere bọọlu yoo ranti wipe aṣeka...</td>\n    </tr>\n  </tbody>\n</table>\n<p>221 rows × 5 columns</p>\n</div>"
     },
     "execution_count": 155,
     "metadata": {},
     "output_type": "execute_result"
    }
   ],
   "source": [
    "union_data"
   ],
   "metadata": {
    "collapsed": false,
    "ExecuteTime": {
     "end_time": "2024-11-05T14:40:28.807193Z",
     "start_time": "2024-11-05T14:40:28.794122Z"
    }
   },
   "id": "459084fa464f256e"
  },
  {
   "cell_type": "code",
   "execution_count": 156,
   "outputs": [],
   "source": [
    "del union_data['index']"
   ],
   "metadata": {
    "collapsed": false,
    "ExecuteTime": {
     "end_time": "2024-11-05T14:40:30.737473Z",
     "start_time": "2024-11-05T14:40:30.725661Z"
    }
   },
   "id": "252ddfcafcdedb37"
  },
  {
   "cell_type": "code",
   "execution_count": 157,
   "outputs": [],
   "source": [
    "union_data.to_csv(f\"../xlsum_v3/{LANGUAGE}/pred.csv\")"
   ],
   "metadata": {
    "collapsed": false,
    "ExecuteTime": {
     "end_time": "2024-11-05T14:40:31.109957Z",
     "start_time": "2024-11-05T14:40:31.059401Z"
    }
   },
   "id": "ba66bca711040560"
  },
  {
   "cell_type": "code",
   "execution_count": 51,
   "outputs": [
    {
     "data": {
      "text/plain": "    q_idx                                  gemini_prediction  \\\n0       0  Àwọn arìnrìnàjò ní pápákọ̀ òfúrufú MMA2\\n\\nÀwọ...   \n3       4  **Òrọ Tí A Túmọ̀**\\n\\n* Igbakeji Aarẹ Naijiria...   \n4       5  **Awọn Ọrọ Yorùbá:**\\n\\n* Iroyin (ìròyìn)\\n* K...   \n5       6  **Otito ti Pochettino gba adehun PSG:**\\n\\nPoc...   \n6       9  Bẹẹ ni ọrọ ti a ri pẹlu ọkunrin kan, Abass Abi...   \n..    ...                                                ...   \n84    141  Chris Dalzell sọ pe ere ṣiṣẹ́ pẹ̀lú tattoo di ...   \n86    144  **Ohun tí ṣẹlẹ sí Tolulope Joseph**\\n\\nTolulop...   \n87    145  **Iṣẹlẹ̀:**\\n\\nÌdìbò ààdọ̀ta o lé ni Mnangagwa...   \n88    146  Ikọ Super Eagles bẹrẹ ṣiṣe igbaradi pẹlu ere i...   \n89    147  Ko si àkàsí pẹ̀lú ọ̀rọ̀ tí ó bá ọ̀rọ̀ “<ọ̀rọ̀>...   \n\n                                                label  \\\n0   Àwọn ẹgbẹ́ òṣìṣẹ́ lẹ́kàa ètò ìrìnà òfúrufú ti ...   \n3   Ijọba apaapọ orilẹede Naijiria ni wọn yoo se i...   \n4   Orisirisi iwa isekupani lo n waye ni Naijiria ...   \n5   Lẹyin ọ rẹyin, Mauricio Pochettino di akọnimọọ...   \n6   Yoruba ni fi ọrẹ rẹ han mi, ki n sọ iru eeyan ...   \n..                                                ...   \n84  \"Igbakuugba ti mo ba n wẹ, ti mo ba si ri alaf...   \n86  Iwa ki ọmọ maa tọ sile kii se ohun ajeji nilẹ ...   \n87  Ààrẹ Emmerson Mnangagwa ti jáwé olúborí níbí ì...   \n88  Olukọni ikọ agbabọọlu Super Eagles ti kede wi ...   \n89  O da bi ẹni pe gbẹgẹdẹ fẹ gbina laarin awọn ol...   \n\n                                       gpt_prediction  \n0   Ọjọbọ, àwọn arìnrìàjò ní pápákọ̀ òfúrufú MMA2 ...  \n3   ti o ti ṣe abẹwo si ibudo awọn to lugbaji omiy...  \n4   Ọrọ ti a ti kọ fun yin ni nipa iya kan to pa ọ...  \n5   Pochettino ti ṣiṣẹ akọnimọọgba fun PSG ni oṣu ...  \n6   Ọrọ ti a ti funra yin ni akopọ ti a ti ṣe fun ...  \n..                                                ...  \n84  Ọrọ ti a ti fun kọ akopọ ni pe Chris Dalzell t...  \n86  Ọjọ Tolulope Joseph ti jẹ ọpọ asa abalaye ti o...  \n87  Ọrọ ti a ti fun kọ akopọ ni pe Mnangagwa, alát...  \n88  Ọjọ ẹti ni ojúmọ́rọ́ ni a ti pade awọn oniroyi...  \n89  John Ogu bá BBC Yorúbá sọ̀rọ̀ lórí ìgbáradì Ni...  \n\n[87 rows x 4 columns]",
      "text/html": "<div>\n<style scoped>\n    .dataframe tbody tr th:only-of-type {\n        vertical-align: middle;\n    }\n\n    .dataframe tbody tr th {\n        vertical-align: top;\n    }\n\n    .dataframe thead th {\n        text-align: right;\n    }\n</style>\n<table border=\"1\" class=\"dataframe\">\n  <thead>\n    <tr style=\"text-align: right;\">\n      <th></th>\n      <th>q_idx</th>\n      <th>gemini_prediction</th>\n      <th>label</th>\n      <th>gpt_prediction</th>\n    </tr>\n  </thead>\n  <tbody>\n    <tr>\n      <th>0</th>\n      <td>0</td>\n      <td>Àwọn arìnrìnàjò ní pápákọ̀ òfúrufú MMA2\\n\\nÀwọ...</td>\n      <td>Àwọn ẹgbẹ́ òṣìṣẹ́ lẹ́kàa ètò ìrìnà òfúrufú ti ...</td>\n      <td>Ọjọbọ, àwọn arìnrìàjò ní pápákọ̀ òfúrufú MMA2 ...</td>\n    </tr>\n    <tr>\n      <th>3</th>\n      <td>4</td>\n      <td>**Òrọ Tí A Túmọ̀**\\n\\n* Igbakeji Aarẹ Naijiria...</td>\n      <td>Ijọba apaapọ orilẹede Naijiria ni wọn yoo se i...</td>\n      <td>ti o ti ṣe abẹwo si ibudo awọn to lugbaji omiy...</td>\n    </tr>\n    <tr>\n      <th>4</th>\n      <td>5</td>\n      <td>**Awọn Ọrọ Yorùbá:**\\n\\n* Iroyin (ìròyìn)\\n* K...</td>\n      <td>Orisirisi iwa isekupani lo n waye ni Naijiria ...</td>\n      <td>Ọrọ ti a ti kọ fun yin ni nipa iya kan to pa ọ...</td>\n    </tr>\n    <tr>\n      <th>5</th>\n      <td>6</td>\n      <td>**Otito ti Pochettino gba adehun PSG:**\\n\\nPoc...</td>\n      <td>Lẹyin ọ rẹyin, Mauricio Pochettino di akọnimọọ...</td>\n      <td>Pochettino ti ṣiṣẹ akọnimọọgba fun PSG ni oṣu ...</td>\n    </tr>\n    <tr>\n      <th>6</th>\n      <td>9</td>\n      <td>Bẹẹ ni ọrọ ti a ri pẹlu ọkunrin kan, Abass Abi...</td>\n      <td>Yoruba ni fi ọrẹ rẹ han mi, ki n sọ iru eeyan ...</td>\n      <td>Ọrọ ti a ti funra yin ni akopọ ti a ti ṣe fun ...</td>\n    </tr>\n    <tr>\n      <th>...</th>\n      <td>...</td>\n      <td>...</td>\n      <td>...</td>\n      <td>...</td>\n    </tr>\n    <tr>\n      <th>84</th>\n      <td>141</td>\n      <td>Chris Dalzell sọ pe ere ṣiṣẹ́ pẹ̀lú tattoo di ...</td>\n      <td>\"Igbakuugba ti mo ba n wẹ, ti mo ba si ri alaf...</td>\n      <td>Ọrọ ti a ti fun kọ akopọ ni pe Chris Dalzell t...</td>\n    </tr>\n    <tr>\n      <th>86</th>\n      <td>144</td>\n      <td>**Ohun tí ṣẹlẹ sí Tolulope Joseph**\\n\\nTolulop...</td>\n      <td>Iwa ki ọmọ maa tọ sile kii se ohun ajeji nilẹ ...</td>\n      <td>Ọjọ Tolulope Joseph ti jẹ ọpọ asa abalaye ti o...</td>\n    </tr>\n    <tr>\n      <th>87</th>\n      <td>145</td>\n      <td>**Iṣẹlẹ̀:**\\n\\nÌdìbò ààdọ̀ta o lé ni Mnangagwa...</td>\n      <td>Ààrẹ Emmerson Mnangagwa ti jáwé olúborí níbí ì...</td>\n      <td>Ọrọ ti a ti fun kọ akopọ ni pe Mnangagwa, alát...</td>\n    </tr>\n    <tr>\n      <th>88</th>\n      <td>146</td>\n      <td>Ikọ Super Eagles bẹrẹ ṣiṣe igbaradi pẹlu ere i...</td>\n      <td>Olukọni ikọ agbabọọlu Super Eagles ti kede wi ...</td>\n      <td>Ọjọ ẹti ni ojúmọ́rọ́ ni a ti pade awọn oniroyi...</td>\n    </tr>\n    <tr>\n      <th>89</th>\n      <td>147</td>\n      <td>Ko si àkàsí pẹ̀lú ọ̀rọ̀ tí ó bá ọ̀rọ̀ “&lt;ọ̀rọ̀&gt;...</td>\n      <td>O da bi ẹni pe gbẹgẹdẹ fẹ gbina laarin awọn ol...</td>\n      <td>John Ogu bá BBC Yorúbá sọ̀rọ̀ lórí ìgbáradì Ni...</td>\n    </tr>\n  </tbody>\n</table>\n<p>87 rows × 4 columns</p>\n</div>"
     },
     "execution_count": 51,
     "metadata": {},
     "output_type": "execute_result"
    }
   ],
   "source": [
    "union_data.drop_duplicates(subset=['q_idx'])"
   ],
   "metadata": {
    "collapsed": false,
    "ExecuteTime": {
     "end_time": "2024-08-23T14:20:38.798130Z",
     "start_time": "2024-08-23T14:20:38.785816Z"
    }
   },
   "id": "873ffec8fe2a32d0"
  },
  {
   "cell_type": "code",
   "execution_count": 49,
   "outputs": [],
   "source": [
    "union_data = union_data.drop(85)"
   ],
   "metadata": {
    "collapsed": false,
    "ExecuteTime": {
     "end_time": "2024-08-23T14:20:31.760649Z",
     "start_time": "2024-08-23T14:20:31.741404Z"
    }
   },
   "id": "611db9961b468edd"
  },
  {
   "cell_type": "code",
   "execution_count": 50,
   "outputs": [
    {
     "data": {
      "text/plain": "    q_idx                                  gemini_prediction  \\\n0       0  Àwọn arìnrìnàjò ní pápákọ̀ òfúrufú MMA2\\n\\nÀwọ...   \n3       4  **Òrọ Tí A Túmọ̀**\\n\\n* Igbakeji Aarẹ Naijiria...   \n4       5  **Awọn Ọrọ Yorùbá:**\\n\\n* Iroyin (ìròyìn)\\n* K...   \n5       6  **Otito ti Pochettino gba adehun PSG:**\\n\\nPoc...   \n6       9  Bẹẹ ni ọrọ ti a ri pẹlu ọkunrin kan, Abass Abi...   \n..    ...                                                ...   \n84    141  Chris Dalzell sọ pe ere ṣiṣẹ́ pẹ̀lú tattoo di ...   \n86    144  **Ohun tí ṣẹlẹ sí Tolulope Joseph**\\n\\nTolulop...   \n87    145  **Iṣẹlẹ̀:**\\n\\nÌdìbò ààdọ̀ta o lé ni Mnangagwa...   \n88    146  Ikọ Super Eagles bẹrẹ ṣiṣe igbaradi pẹlu ere i...   \n89    147  Ko si àkàsí pẹ̀lú ọ̀rọ̀ tí ó bá ọ̀rọ̀ “<ọ̀rọ̀>...   \n\n                                                label  \\\n0   Àwọn ẹgbẹ́ òṣìṣẹ́ lẹ́kàa ètò ìrìnà òfúrufú ti ...   \n3   Ijọba apaapọ orilẹede Naijiria ni wọn yoo se i...   \n4   Orisirisi iwa isekupani lo n waye ni Naijiria ...   \n5   Lẹyin ọ rẹyin, Mauricio Pochettino di akọnimọọ...   \n6   Yoruba ni fi ọrẹ rẹ han mi, ki n sọ iru eeyan ...   \n..                                                ...   \n84  \"Igbakuugba ti mo ba n wẹ, ti mo ba si ri alaf...   \n86  Iwa ki ọmọ maa tọ sile kii se ohun ajeji nilẹ ...   \n87  Ààrẹ Emmerson Mnangagwa ti jáwé olúborí níbí ì...   \n88  Olukọni ikọ agbabọọlu Super Eagles ti kede wi ...   \n89  O da bi ẹni pe gbẹgẹdẹ fẹ gbina laarin awọn ol...   \n\n                                       gpt_prediction  \n0   Ọjọbọ, àwọn arìnrìàjò ní pápákọ̀ òfúrufú MMA2 ...  \n3   ti o ti ṣe abẹwo si ibudo awọn to lugbaji omiy...  \n4   Ọrọ ti a ti kọ fun yin ni nipa iya kan to pa ọ...  \n5   Pochettino ti ṣiṣẹ akọnimọọgba fun PSG ni oṣu ...  \n6   Ọrọ ti a ti funra yin ni akopọ ti a ti ṣe fun ...  \n..                                                ...  \n84  Ọrọ ti a ti fun kọ akopọ ni pe Chris Dalzell t...  \n86  Ọjọ Tolulope Joseph ti jẹ ọpọ asa abalaye ti o...  \n87  Ọrọ ti a ti fun kọ akopọ ni pe Mnangagwa, alát...  \n88  Ọjọ ẹti ni ojúmọ́rọ́ ni a ti pade awọn oniroyi...  \n89  John Ogu bá BBC Yorúbá sọ̀rọ̀ lórí ìgbáradì Ni...  \n\n[87 rows x 4 columns]",
      "text/html": "<div>\n<style scoped>\n    .dataframe tbody tr th:only-of-type {\n        vertical-align: middle;\n    }\n\n    .dataframe tbody tr th {\n        vertical-align: top;\n    }\n\n    .dataframe thead th {\n        text-align: right;\n    }\n</style>\n<table border=\"1\" class=\"dataframe\">\n  <thead>\n    <tr style=\"text-align: right;\">\n      <th></th>\n      <th>q_idx</th>\n      <th>gemini_prediction</th>\n      <th>label</th>\n      <th>gpt_prediction</th>\n    </tr>\n  </thead>\n  <tbody>\n    <tr>\n      <th>0</th>\n      <td>0</td>\n      <td>Àwọn arìnrìnàjò ní pápákọ̀ òfúrufú MMA2\\n\\nÀwọ...</td>\n      <td>Àwọn ẹgbẹ́ òṣìṣẹ́ lẹ́kàa ètò ìrìnà òfúrufú ti ...</td>\n      <td>Ọjọbọ, àwọn arìnrìàjò ní pápákọ̀ òfúrufú MMA2 ...</td>\n    </tr>\n    <tr>\n      <th>3</th>\n      <td>4</td>\n      <td>**Òrọ Tí A Túmọ̀**\\n\\n* Igbakeji Aarẹ Naijiria...</td>\n      <td>Ijọba apaapọ orilẹede Naijiria ni wọn yoo se i...</td>\n      <td>ti o ti ṣe abẹwo si ibudo awọn to lugbaji omiy...</td>\n    </tr>\n    <tr>\n      <th>4</th>\n      <td>5</td>\n      <td>**Awọn Ọrọ Yorùbá:**\\n\\n* Iroyin (ìròyìn)\\n* K...</td>\n      <td>Orisirisi iwa isekupani lo n waye ni Naijiria ...</td>\n      <td>Ọrọ ti a ti kọ fun yin ni nipa iya kan to pa ọ...</td>\n    </tr>\n    <tr>\n      <th>5</th>\n      <td>6</td>\n      <td>**Otito ti Pochettino gba adehun PSG:**\\n\\nPoc...</td>\n      <td>Lẹyin ọ rẹyin, Mauricio Pochettino di akọnimọọ...</td>\n      <td>Pochettino ti ṣiṣẹ akọnimọọgba fun PSG ni oṣu ...</td>\n    </tr>\n    <tr>\n      <th>6</th>\n      <td>9</td>\n      <td>Bẹẹ ni ọrọ ti a ri pẹlu ọkunrin kan, Abass Abi...</td>\n      <td>Yoruba ni fi ọrẹ rẹ han mi, ki n sọ iru eeyan ...</td>\n      <td>Ọrọ ti a ti funra yin ni akopọ ti a ti ṣe fun ...</td>\n    </tr>\n    <tr>\n      <th>...</th>\n      <td>...</td>\n      <td>...</td>\n      <td>...</td>\n      <td>...</td>\n    </tr>\n    <tr>\n      <th>84</th>\n      <td>141</td>\n      <td>Chris Dalzell sọ pe ere ṣiṣẹ́ pẹ̀lú tattoo di ...</td>\n      <td>\"Igbakuugba ti mo ba n wẹ, ti mo ba si ri alaf...</td>\n      <td>Ọrọ ti a ti fun kọ akopọ ni pe Chris Dalzell t...</td>\n    </tr>\n    <tr>\n      <th>86</th>\n      <td>144</td>\n      <td>**Ohun tí ṣẹlẹ sí Tolulope Joseph**\\n\\nTolulop...</td>\n      <td>Iwa ki ọmọ maa tọ sile kii se ohun ajeji nilẹ ...</td>\n      <td>Ọjọ Tolulope Joseph ti jẹ ọpọ asa abalaye ti o...</td>\n    </tr>\n    <tr>\n      <th>87</th>\n      <td>145</td>\n      <td>**Iṣẹlẹ̀:**\\n\\nÌdìbò ààdọ̀ta o lé ni Mnangagwa...</td>\n      <td>Ààrẹ Emmerson Mnangagwa ti jáwé olúborí níbí ì...</td>\n      <td>Ọrọ ti a ti fun kọ akopọ ni pe Mnangagwa, alát...</td>\n    </tr>\n    <tr>\n      <th>88</th>\n      <td>146</td>\n      <td>Ikọ Super Eagles bẹrẹ ṣiṣe igbaradi pẹlu ere i...</td>\n      <td>Olukọni ikọ agbabọọlu Super Eagles ti kede wi ...</td>\n      <td>Ọjọ ẹti ni ojúmọ́rọ́ ni a ti pade awọn oniroyi...</td>\n    </tr>\n    <tr>\n      <th>89</th>\n      <td>147</td>\n      <td>Ko si àkàsí pẹ̀lú ọ̀rọ̀ tí ó bá ọ̀rọ̀ “&lt;ọ̀rọ̀&gt;...</td>\n      <td>O da bi ẹni pe gbẹgẹdẹ fẹ gbina laarin awọn ol...</td>\n      <td>John Ogu bá BBC Yorúbá sọ̀rọ̀ lórí ìgbáradì Ni...</td>\n    </tr>\n  </tbody>\n</table>\n<p>87 rows × 4 columns</p>\n</div>"
     },
     "execution_count": 50,
     "metadata": {},
     "output_type": "execute_result"
    }
   ],
   "source": [
    "union_data"
   ],
   "metadata": {
    "collapsed": false,
    "ExecuteTime": {
     "end_time": "2024-08-23T14:20:32.167465Z",
     "start_time": "2024-08-23T14:20:32.155380Z"
    }
   },
   "id": "73d74d7f4acdb408"
  },
  {
   "cell_type": "code",
   "execution_count": 158,
   "outputs": [],
   "source": [
    "# Combine all data to one file\n",
    "\n",
    "language = 'yoruba'\n",
    "d1 = pd.read_csv(f\"/Users/itaimondshine/PycharmProjects/NLP/eval_metrics/app/xlsum/{language}/pred.csv\")\n",
    "d2 = pd.read_csv(f\"/Users/itaimondshine/PycharmProjects/NLP/eval_metrics/app/xlsum_v2/{language}/pred.csv\")\n",
    "d3 = pd.read_csv(f\"/Users/itaimondshine/PycharmProjects/NLP/eval_metrics/app/xlsum_v3/{language}/pred.csv\")\n"
   ],
   "metadata": {
    "collapsed": false,
    "ExecuteTime": {
     "end_time": "2024-11-05T14:40:33.966655Z",
     "start_time": "2024-11-05T14:40:33.840821Z"
    }
   },
   "id": "80c30a60f5733611"
  },
  {
   "cell_type": "code",
   "execution_count": 159,
   "outputs": [],
   "source": [
    "full = pd.concat([d1, d2, d3], axis=0)"
   ],
   "metadata": {
    "collapsed": false,
    "ExecuteTime": {
     "end_time": "2024-11-05T14:40:34.126931Z",
     "start_time": "2024-11-05T14:40:34.110563Z"
    }
   },
   "id": "bb9df5ac00ce68f4"
  },
  {
   "cell_type": "code",
   "execution_count": 160,
   "outputs": [
    {
     "data": {
      "text/plain": "     Unnamed: 0  q_idx                                  gemini_prediction  \\\n0             0      0  Àwọn arìnrìnàjò ní pápákọ̀ òfúrufú MMA2\\n\\nÀwọ...   \n1             3      4  **Òrọ Tí A Túmọ̀**\\n\\n* Igbakeji Aarẹ Naijiria...   \n2             4      5  **Awọn Ọrọ Yorùbá:**\\n\\n* Iroyin (ìròyìn)\\n* K...   \n3             5      6  **Otito ti Pochettino gba adehun PSG:**\\n\\nPoc...   \n4             6      9  Bẹẹ ni ọrọ ti a ri pẹlu ọkunrin kan, Abass Abi...   \n..          ...    ...                                                ...   \n216         216    784  <ọrọ> ẹgbẹ\\n\\n- Agba ẹgbẹ PDP\\n- Akọwe ẹgbẹ\\n-...   \n217         217    786  CSP Francis Osagie Erhabor, gbɔŋlɔŋlɔ tɔŋu tɔŋ...   \n218         218    787  **Akopọ ọ̀rọ̀**\\n\\n**Akọ̀ròrò Òfurufú**\\n\\nSón...   \n219         219    788  Ọba fe Adele Temilólu gb'iyẹ lọ araṣo k'ó lọ́ ...   \n220         220    789  **Ibikibi tí igi ìfèsèwòńsẹ náà wọ̀ sí, àṣekág...   \n\n                                                 label  \\\n0    Àwọn ẹgbẹ́ òṣìṣẹ́ lẹ́kàa ètò ìrìnà òfúrufú ti ...   \n1    Ijọba apaapọ orilẹede Naijiria ni wọn yoo se i...   \n2    Orisirisi iwa isekupani lo n waye ni Naijiria ...   \n3    Lẹyin ọ rẹyin, Mauricio Pochettino di akọnimọọ...   \n4    Yoruba ni fi ọrẹ rẹ han mi, ki n sọ iru eeyan ...   \n..                                                 ...   \n216  Gomina ana nipinlẹ Ekiti Ayodele Fayose ti fes...   \n217  Ọ̀gá ọlọ́pàá kan ti kọ̀wé fi iṣẹ́ ọlọ́pàá sílẹ...   \n218  Bi sunkẹrẹ-fakẹrẹ ọkọ ba da ọ duro, ma fi ṣe i...   \n219  Laipẹ yii ni Adele Ọba Alaade ilu kan labẹ ilu...   \n220  Ni ọjọ kini oṣu kẹfa, ikọ Ilẹ Gẹẹsi meji Liver...   \n\n                                        gpt_prediction  \n0    Ọjọbọ, àwọn arìnrìàjò ní pápákọ̀ òfúrufú MMA2 ...  \n1    ti o ti ṣe abẹwo si ibudo awọn to lugbaji omiy...  \n2    Ọrọ ti a ti kọ fun yin ni nipa iya kan to pa ọ...  \n3    Pochettino ti ṣiṣẹ akọnimọọgba fun PSG ni oṣu ...  \n4    Ọrọ ti a ti funra yin ni akopọ ti a ti ṣe fun ...  \n..                                                 ...  \n216  ni Ekiti ni o wa ni ilu naa. O sọ pe o ti gba ...  \n217  Ọrọ ti a fun CSP Francis Osagie Erhabor ni níp...  \n218  Ọrọ ti a sọ fun kẹyin ni wi pe ko ṣe jẹjẹ. Bi ...  \n219  Ọmọọba Temilolu ti sọ pe, o ti fi oun jẹ Adele...  \n220  Ọpọlọpọ ololufẹ ere bọọlu yoo ranti wipe aṣeka...  \n\n[387 rows x 5 columns]",
      "text/html": "<div>\n<style scoped>\n    .dataframe tbody tr th:only-of-type {\n        vertical-align: middle;\n    }\n\n    .dataframe tbody tr th {\n        vertical-align: top;\n    }\n\n    .dataframe thead th {\n        text-align: right;\n    }\n</style>\n<table border=\"1\" class=\"dataframe\">\n  <thead>\n    <tr style=\"text-align: right;\">\n      <th></th>\n      <th>Unnamed: 0</th>\n      <th>q_idx</th>\n      <th>gemini_prediction</th>\n      <th>label</th>\n      <th>gpt_prediction</th>\n    </tr>\n  </thead>\n  <tbody>\n    <tr>\n      <th>0</th>\n      <td>0</td>\n      <td>0</td>\n      <td>Àwọn arìnrìnàjò ní pápákọ̀ òfúrufú MMA2\\n\\nÀwọ...</td>\n      <td>Àwọn ẹgbẹ́ òṣìṣẹ́ lẹ́kàa ètò ìrìnà òfúrufú ti ...</td>\n      <td>Ọjọbọ, àwọn arìnrìàjò ní pápákọ̀ òfúrufú MMA2 ...</td>\n    </tr>\n    <tr>\n      <th>1</th>\n      <td>3</td>\n      <td>4</td>\n      <td>**Òrọ Tí A Túmọ̀**\\n\\n* Igbakeji Aarẹ Naijiria...</td>\n      <td>Ijọba apaapọ orilẹede Naijiria ni wọn yoo se i...</td>\n      <td>ti o ti ṣe abẹwo si ibudo awọn to lugbaji omiy...</td>\n    </tr>\n    <tr>\n      <th>2</th>\n      <td>4</td>\n      <td>5</td>\n      <td>**Awọn Ọrọ Yorùbá:**\\n\\n* Iroyin (ìròyìn)\\n* K...</td>\n      <td>Orisirisi iwa isekupani lo n waye ni Naijiria ...</td>\n      <td>Ọrọ ti a ti kọ fun yin ni nipa iya kan to pa ọ...</td>\n    </tr>\n    <tr>\n      <th>3</th>\n      <td>5</td>\n      <td>6</td>\n      <td>**Otito ti Pochettino gba adehun PSG:**\\n\\nPoc...</td>\n      <td>Lẹyin ọ rẹyin, Mauricio Pochettino di akọnimọọ...</td>\n      <td>Pochettino ti ṣiṣẹ akọnimọọgba fun PSG ni oṣu ...</td>\n    </tr>\n    <tr>\n      <th>4</th>\n      <td>6</td>\n      <td>9</td>\n      <td>Bẹẹ ni ọrọ ti a ri pẹlu ọkunrin kan, Abass Abi...</td>\n      <td>Yoruba ni fi ọrẹ rẹ han mi, ki n sọ iru eeyan ...</td>\n      <td>Ọrọ ti a ti funra yin ni akopọ ti a ti ṣe fun ...</td>\n    </tr>\n    <tr>\n      <th>...</th>\n      <td>...</td>\n      <td>...</td>\n      <td>...</td>\n      <td>...</td>\n      <td>...</td>\n    </tr>\n    <tr>\n      <th>216</th>\n      <td>216</td>\n      <td>784</td>\n      <td>&lt;ọrọ&gt; ẹgbẹ\\n\\n- Agba ẹgbẹ PDP\\n- Akọwe ẹgbẹ\\n-...</td>\n      <td>Gomina ana nipinlẹ Ekiti Ayodele Fayose ti fes...</td>\n      <td>ni Ekiti ni o wa ni ilu naa. O sọ pe o ti gba ...</td>\n    </tr>\n    <tr>\n      <th>217</th>\n      <td>217</td>\n      <td>786</td>\n      <td>CSP Francis Osagie Erhabor, gbɔŋlɔŋlɔ tɔŋu tɔŋ...</td>\n      <td>Ọ̀gá ọlọ́pàá kan ti kọ̀wé fi iṣẹ́ ọlọ́pàá sílẹ...</td>\n      <td>Ọrọ ti a fun CSP Francis Osagie Erhabor ni níp...</td>\n    </tr>\n    <tr>\n      <th>218</th>\n      <td>218</td>\n      <td>787</td>\n      <td>**Akopọ ọ̀rọ̀**\\n\\n**Akọ̀ròrò Òfurufú**\\n\\nSón...</td>\n      <td>Bi sunkẹrẹ-fakẹrẹ ọkọ ba da ọ duro, ma fi ṣe i...</td>\n      <td>Ọrọ ti a sọ fun kẹyin ni wi pe ko ṣe jẹjẹ. Bi ...</td>\n    </tr>\n    <tr>\n      <th>219</th>\n      <td>219</td>\n      <td>788</td>\n      <td>Ọba fe Adele Temilólu gb'iyẹ lọ araṣo k'ó lọ́ ...</td>\n      <td>Laipẹ yii ni Adele Ọba Alaade ilu kan labẹ ilu...</td>\n      <td>Ọmọọba Temilolu ti sọ pe, o ti fi oun jẹ Adele...</td>\n    </tr>\n    <tr>\n      <th>220</th>\n      <td>220</td>\n      <td>789</td>\n      <td>**Ibikibi tí igi ìfèsèwòńsẹ náà wọ̀ sí, àṣekág...</td>\n      <td>Ni ọjọ kini oṣu kẹfa, ikọ Ilẹ Gẹẹsi meji Liver...</td>\n      <td>Ọpọlọpọ ololufẹ ere bọọlu yoo ranti wipe aṣeka...</td>\n    </tr>\n  </tbody>\n</table>\n<p>387 rows × 5 columns</p>\n</div>"
     },
     "execution_count": 160,
     "metadata": {},
     "output_type": "execute_result"
    }
   ],
   "source": [
    "full.drop_duplicates()"
   ],
   "metadata": {
    "collapsed": false,
    "ExecuteTime": {
     "end_time": "2024-11-05T14:40:34.544616Z",
     "start_time": "2024-11-05T14:40:34.518548Z"
    }
   },
   "id": "5dd59345c6a7b4c"
  },
  {
   "cell_type": "code",
   "execution_count": 161,
   "outputs": [],
   "source": [
    "del full['Unnamed: 0']\n",
    "# del full['index']"
   ],
   "metadata": {
    "collapsed": false,
    "ExecuteTime": {
     "end_time": "2024-11-05T14:40:39.319175Z",
     "start_time": "2024-11-05T14:40:39.307454Z"
    }
   },
   "id": "9104667bf562567"
  },
  {
   "cell_type": "code",
   "execution_count": 162,
   "outputs": [],
   "source": [
    "full.to_csv(f\"/Users/itaimondshine/PycharmProjects/NLP/eval_metrics/app/data/{language}.csv\", index=False)"
   ],
   "metadata": {
    "collapsed": false,
    "ExecuteTime": {
     "end_time": "2024-11-05T14:40:40.184194Z",
     "start_time": "2024-11-05T14:40:40.113304Z"
    }
   },
   "id": "e709e4c92d341eeb"
  },
  {
   "cell_type": "code",
   "execution_count": 138,
   "outputs": [
    {
     "data": {
      "text/plain": "     q_idx                                  gemini_prediction  \\\n0        0  中华民国台湾总统蔡英文出席了尼加拉瓜总统丹尼尔·奥尔特加的就职仪式，奥尔特加在致词中称蔡英文...   \n1        1  英国大学毕业生找工作日益艰难，实习机会可提升求职成功率。\\n莱斯特大学率先提供带薪实习，年薪...   \n2        2  中国一年一度的春运开启，当局呼吁在外地工作的人“就地过年”以防控疫情，民众面临两难抉择。\\n...   \n3        3  奥巴马和默克尔同意两国情报人员会面，以加强情报合作。据报道，美国国家安全局监听了德国总理默克...   \n4        4  英国正在评估与华为合作开发 5G 网络，引发了“五眼联盟”内部的分歧，因为担忧华为与中国政府...   \n..     ...                                                ...   \n269    694  32 岁的前英格兰前锋欧文希望继续征战英超，斯托克城最有可能签下他。尽管欧文已不再年轻，但相...   \n270    695  谢淑薇和彭帅在温网女双四分之一决赛失利后接受采访，她们表示感觉“解脱”，因为对手表现出色。她...   \n271    696  穆萨拉姆父母表示，其子2014年在土耳其失踪，后“伊斯兰国”宣称其为受以色列情报局指派间谍，...   \n272    698  国际能源署监测发现，固定系泊大型油轮存储的原油达到 9400 万桶，这高于正常水平，但不足以...   \n273    699  联署信呼吁中国全国人大批准加入《公民权利和政治权利国际公约》。244名人士联署，包括律师、学...   \n\n                                                 label  \\\n0    中美洲尼加拉瓜总统丹尼尔‧奥尔特加（Daniel Ortega）当地时间星期二（1月10日）...   \n1    英国莱斯特大学（Leicester University）将为本科生提供最多500个带薪实习...   \n2    2021年1月进入最后一周。尽管新冠病毒疫苗接种工作已在全球多国如火如荼地展开，但全球累计感...   \n3               德国情报官员代表即将和美国白宫官员就美国监听德国总理默克尔手机一事展开会谈。   \n4    在光明乐观的愿景中，未来我们将生活在“智能城市”：无人驾驶汽车在智能电网上充好电后，会核对最...   \n..                                                 ...   \n269                      据欧文经纪人表示，多家英超俱乐部都对这名前曼联前锋感兴趣。   \n270  温网比赛进入到了第九个比赛日，大赛的女双头号种子 - 海峡组合彭帅/谢淑薇以6-4、6-7、...   \n271   “伊斯兰国”（IS）武装组织在互联网上发布一段视频，显示一名他们称为以色列间谍的阿拉伯人被枪杀。   \n272  每年都有30亿吨原油及其精炼产品通过巨型油轮运往世界各地。但最近，其中的一些油轮却停航了。事...   \n273          在中国人大在北京开会之际，第三批律师和活动人士签署联名信呼吁人大尽快批准人权公约。   \n\n                                        gpt_prediction  \\\n0    台湾总统蔡英文出席了尼加拉瓜总统丹尼尔‧奥尔特加与罗萨里奥‧穆里略的宣誓就职仪式。奥尔特加在...   \n1    英国大学毕业生找工作越来越难，实习经验能提高求职成功率。莱斯特大学是英国20所顶尖大学里率先...   \n2      中国春运开启，需要返乡的人需要接受多次核酸检测。全球多地再次爆发抗议，包括俄罗斯、荷兰和印度。   \n3    奥巴马和默克尔同意两国情报人员会面，旨在加强双方在情报事务上的合作。德国总理默克尔的手机早在...   \n4    5G技术的发展引发了对于华为参与5G网络建设的担忧。英国作为一个关键的决策者，面临着在安全性...   \n..                                                 ...   \n269  奥运火炬手欧文希望继续在英超征战，斯托克城是最有可能签下他的俱乐部。尽管年龄已经32岁，但欧...   \n270  谢淑薇和彭帅在接受采访时表示，他们对比赛结果没有失望，因为他们没有期望。谢淑薇认为转折点可能...   \n271  穆萨拉姆是一名失踪的以色列间谍，据称他加入了叙利亚的武装部队。他被“伊斯兰国”组织指认为外国...   \n272  国际能源署（IEA）监测到固定系泊大型油轮存储的未精炼原油数量接近9,400万桶。船舶分析公...   \n273  244人联署信呼吁中国全国人大批准加入《公民权利和政治权利国际公约》，以推动政改和促进人权发...   \n\n                                           label_lemma  \\\n0    中美洲尼加拉瓜总统丹尼尔‧奥尔特加（DanielOrtega）当地时间星期二（1月10日）在...   \n1    英国莱斯特大学（LeicesterUniversity）将为本科生提供最多500个带薪实习机...   \n2    2021年1月进入最后一周。尽管新冠病毒疫苗接种工作已在全球多国如火如荼地展开，但全球累计感...   \n3               德国情报官员代表即将和美国白宫官员就美国监听德国总理默克尔手机一事展开会谈。   \n4    在光明乐观的愿景中，未来我将生活在“智能城市”：无人驾驶汽车在智能电网上充好电后，会核对最佳路线。   \n..                                                 ...   \n269                                                NaN   \n270                                                NaN   \n271                                                NaN   \n272                                                NaN   \n273                                                NaN   \n\n                                  gpt_prediction_lemma  \\\n0    台湾总统蔡英文出席了尼加拉瓜总统丹尼尔‧奥尔特加与罗萨里奥‧穆里略的宣誓就职仪式。奥尔特加在...   \n1    英国大学毕业生找工作越来越难，实习经验能提高求职成功率。莱斯特大学是英国20所顶尖大学里率先...   \n2      中国春运开启，需要返乡的人需要接受多次核酸检测。全球多地再次爆发抗议，包括俄罗斯、荷兰和印度。   \n3    奥巴马和默克尔同意两国情报人员会面，旨在加强双方在情报事务上的合作。德国总理默克尔的手机早在...   \n4    5G技术的发展引发了对于华为参与5G网络建设的担忧。英国作为一个关键的决策者，面临着在安全性...   \n..                                                 ...   \n269                                                NaN   \n270                                                NaN   \n271                                                NaN   \n272                                                NaN   \n273                                                NaN   \n\n                               gemini_prediction_lemma  \n0    中华民国台湾总统蔡英文出席了尼加拉瓜总统丹尼尔·奥尔特加的就职仪式，奥尔特加在致词中称蔡英文...  \n1    英国大学毕业生找工作日益艰难，实习机会可提升求职成功率。莱斯特大学率先提供带薪实习，年薪最高...  \n2    中国一年一度的春运开启，当局呼吁在外地工作的人“就地过年”以防控疫情，民众面临两难抉择。欧盟...  \n3    奥巴马和默克尔同意两国情报人员会面，以加强情报合作。据报道，美国国家安全局监听了德国总理默克...  \n4    英国正在评估与华为合作开发5G网络，引发了“五眼联盟”内部的分歧，因为担忧华为与中国政府的联...  \n..                                                 ...  \n269                                                NaN  \n270                                                NaN  \n271                                                NaN  \n272                                                NaN  \n273                                                NaN  \n\n[467 rows x 7 columns]",
      "text/html": "<div>\n<style scoped>\n    .dataframe tbody tr th:only-of-type {\n        vertical-align: middle;\n    }\n\n    .dataframe tbody tr th {\n        vertical-align: top;\n    }\n\n    .dataframe thead th {\n        text-align: right;\n    }\n</style>\n<table border=\"1\" class=\"dataframe\">\n  <thead>\n    <tr style=\"text-align: right;\">\n      <th></th>\n      <th>q_idx</th>\n      <th>gemini_prediction</th>\n      <th>label</th>\n      <th>gpt_prediction</th>\n      <th>label_lemma</th>\n      <th>gpt_prediction_lemma</th>\n      <th>gemini_prediction_lemma</th>\n    </tr>\n  </thead>\n  <tbody>\n    <tr>\n      <th>0</th>\n      <td>0</td>\n      <td>中华民国台湾总统蔡英文出席了尼加拉瓜总统丹尼尔·奥尔特加的就职仪式，奥尔特加在致词中称蔡英文...</td>\n      <td>中美洲尼加拉瓜总统丹尼尔‧奥尔特加（Daniel Ortega）当地时间星期二（1月10日）...</td>\n      <td>台湾总统蔡英文出席了尼加拉瓜总统丹尼尔‧奥尔特加与罗萨里奥‧穆里略的宣誓就职仪式。奥尔特加在...</td>\n      <td>中美洲尼加拉瓜总统丹尼尔‧奥尔特加（DanielOrtega）当地时间星期二（1月10日）在...</td>\n      <td>台湾总统蔡英文出席了尼加拉瓜总统丹尼尔‧奥尔特加与罗萨里奥‧穆里略的宣誓就职仪式。奥尔特加在...</td>\n      <td>中华民国台湾总统蔡英文出席了尼加拉瓜总统丹尼尔·奥尔特加的就职仪式，奥尔特加在致词中称蔡英文...</td>\n    </tr>\n    <tr>\n      <th>1</th>\n      <td>1</td>\n      <td>英国大学毕业生找工作日益艰难，实习机会可提升求职成功率。\\n莱斯特大学率先提供带薪实习，年薪...</td>\n      <td>英国莱斯特大学（Leicester University）将为本科生提供最多500个带薪实习...</td>\n      <td>英国大学毕业生找工作越来越难，实习经验能提高求职成功率。莱斯特大学是英国20所顶尖大学里率先...</td>\n      <td>英国莱斯特大学（LeicesterUniversity）将为本科生提供最多500个带薪实习机...</td>\n      <td>英国大学毕业生找工作越来越难，实习经验能提高求职成功率。莱斯特大学是英国20所顶尖大学里率先...</td>\n      <td>英国大学毕业生找工作日益艰难，实习机会可提升求职成功率。莱斯特大学率先提供带薪实习，年薪最高...</td>\n    </tr>\n    <tr>\n      <th>2</th>\n      <td>2</td>\n      <td>中国一年一度的春运开启，当局呼吁在外地工作的人“就地过年”以防控疫情，民众面临两难抉择。\\n...</td>\n      <td>2021年1月进入最后一周。尽管新冠病毒疫苗接种工作已在全球多国如火如荼地展开，但全球累计感...</td>\n      <td>中国春运开启，需要返乡的人需要接受多次核酸检测。全球多地再次爆发抗议，包括俄罗斯、荷兰和印度。</td>\n      <td>2021年1月进入最后一周。尽管新冠病毒疫苗接种工作已在全球多国如火如荼地展开，但全球累计感...</td>\n      <td>中国春运开启，需要返乡的人需要接受多次核酸检测。全球多地再次爆发抗议，包括俄罗斯、荷兰和印度。</td>\n      <td>中国一年一度的春运开启，当局呼吁在外地工作的人“就地过年”以防控疫情，民众面临两难抉择。欧盟...</td>\n    </tr>\n    <tr>\n      <th>3</th>\n      <td>3</td>\n      <td>奥巴马和默克尔同意两国情报人员会面，以加强情报合作。据报道，美国国家安全局监听了德国总理默克...</td>\n      <td>德国情报官员代表即将和美国白宫官员就美国监听德国总理默克尔手机一事展开会谈。</td>\n      <td>奥巴马和默克尔同意两国情报人员会面，旨在加强双方在情报事务上的合作。德国总理默克尔的手机早在...</td>\n      <td>德国情报官员代表即将和美国白宫官员就美国监听德国总理默克尔手机一事展开会谈。</td>\n      <td>奥巴马和默克尔同意两国情报人员会面，旨在加强双方在情报事务上的合作。德国总理默克尔的手机早在...</td>\n      <td>奥巴马和默克尔同意两国情报人员会面，以加强情报合作。据报道，美国国家安全局监听了德国总理默克...</td>\n    </tr>\n    <tr>\n      <th>4</th>\n      <td>4</td>\n      <td>英国正在评估与华为合作开发 5G 网络，引发了“五眼联盟”内部的分歧，因为担忧华为与中国政府...</td>\n      <td>在光明乐观的愿景中，未来我们将生活在“智能城市”：无人驾驶汽车在智能电网上充好电后，会核对最...</td>\n      <td>5G技术的发展引发了对于华为参与5G网络建设的担忧。英国作为一个关键的决策者，面临着在安全性...</td>\n      <td>在光明乐观的愿景中，未来我将生活在“智能城市”：无人驾驶汽车在智能电网上充好电后，会核对最佳路线。</td>\n      <td>5G技术的发展引发了对于华为参与5G网络建设的担忧。英国作为一个关键的决策者，面临着在安全性...</td>\n      <td>英国正在评估与华为合作开发5G网络，引发了“五眼联盟”内部的分歧，因为担忧华为与中国政府的联...</td>\n    </tr>\n    <tr>\n      <th>...</th>\n      <td>...</td>\n      <td>...</td>\n      <td>...</td>\n      <td>...</td>\n      <td>...</td>\n      <td>...</td>\n      <td>...</td>\n    </tr>\n    <tr>\n      <th>269</th>\n      <td>694</td>\n      <td>32 岁的前英格兰前锋欧文希望继续征战英超，斯托克城最有可能签下他。尽管欧文已不再年轻，但相...</td>\n      <td>据欧文经纪人表示，多家英超俱乐部都对这名前曼联前锋感兴趣。</td>\n      <td>奥运火炬手欧文希望继续在英超征战，斯托克城是最有可能签下他的俱乐部。尽管年龄已经32岁，但欧...</td>\n      <td>NaN</td>\n      <td>NaN</td>\n      <td>NaN</td>\n    </tr>\n    <tr>\n      <th>270</th>\n      <td>695</td>\n      <td>谢淑薇和彭帅在温网女双四分之一决赛失利后接受采访，她们表示感觉“解脱”，因为对手表现出色。她...</td>\n      <td>温网比赛进入到了第九个比赛日，大赛的女双头号种子 - 海峡组合彭帅/谢淑薇以6-4、6-7、...</td>\n      <td>谢淑薇和彭帅在接受采访时表示，他们对比赛结果没有失望，因为他们没有期望。谢淑薇认为转折点可能...</td>\n      <td>NaN</td>\n      <td>NaN</td>\n      <td>NaN</td>\n    </tr>\n    <tr>\n      <th>271</th>\n      <td>696</td>\n      <td>穆萨拉姆父母表示，其子2014年在土耳其失踪，后“伊斯兰国”宣称其为受以色列情报局指派间谍，...</td>\n      <td>“伊斯兰国”（IS）武装组织在互联网上发布一段视频，显示一名他们称为以色列间谍的阿拉伯人被枪杀。</td>\n      <td>穆萨拉姆是一名失踪的以色列间谍，据称他加入了叙利亚的武装部队。他被“伊斯兰国”组织指认为外国...</td>\n      <td>NaN</td>\n      <td>NaN</td>\n      <td>NaN</td>\n    </tr>\n    <tr>\n      <th>272</th>\n      <td>698</td>\n      <td>国际能源署监测发现，固定系泊大型油轮存储的原油达到 9400 万桶，这高于正常水平，但不足以...</td>\n      <td>每年都有30亿吨原油及其精炼产品通过巨型油轮运往世界各地。但最近，其中的一些油轮却停航了。事...</td>\n      <td>国际能源署（IEA）监测到固定系泊大型油轮存储的未精炼原油数量接近9,400万桶。船舶分析公...</td>\n      <td>NaN</td>\n      <td>NaN</td>\n      <td>NaN</td>\n    </tr>\n    <tr>\n      <th>273</th>\n      <td>699</td>\n      <td>联署信呼吁中国全国人大批准加入《公民权利和政治权利国际公约》。244名人士联署，包括律师、学...</td>\n      <td>在中国人大在北京开会之际，第三批律师和活动人士签署联名信呼吁人大尽快批准人权公约。</td>\n      <td>244人联署信呼吁中国全国人大批准加入《公民权利和政治权利国际公约》，以推动政改和促进人权发...</td>\n      <td>NaN</td>\n      <td>NaN</td>\n      <td>NaN</td>\n    </tr>\n  </tbody>\n</table>\n<p>467 rows × 7 columns</p>\n</div>"
     },
     "execution_count": 138,
     "metadata": {},
     "output_type": "execute_result"
    }
   ],
   "source": [
    "full"
   ],
   "metadata": {
    "collapsed": false,
    "ExecuteTime": {
     "end_time": "2024-11-05T13:20:15.046139Z",
     "start_time": "2024-11-05T13:20:15.033244Z"
    }
   },
   "id": "e5870b87be56f897"
  },
  {
   "cell_type": "code",
   "execution_count": 24,
   "outputs": [],
   "source": [
    "import pandas as pd\n",
    "full = pd.read_csv(\"/Users/itaimondshine/PycharmProjects/NLP/eval_metrics/app/data/arabic.csv\")"
   ],
   "metadata": {
    "collapsed": false,
    "ExecuteTime": {
     "end_time": "2024-11-05T18:01:41.760512Z",
     "start_time": "2024-11-05T18:01:41.703120Z"
    }
   },
   "id": "e4f995a58bb2b248"
  },
  {
   "cell_type": "code",
   "execution_count": 25,
   "outputs": [
    {
     "data": {
      "text/plain": "     q_idx                                  gemini_prediction  \\\n0        1  ألمانيا تواجه صعوبات في التعامل مع زيادة أعداد...   \n1        2  أعلنت وسائل الإعلام السورية أن الجيش استعاد ال...   \n2        3  فاجأ فريق هال سيتي الحضور بتسجيل هدفين مبكرين ...   \n3        4  يتحدث النص عن وجود مجموعات متنوعة من الأقليات ...   \n4        5  تمكنت القوات الحكومية السورية من استعادة السيط...   \n..     ...                                                ...   \n352    694  هدد مقتدى الصدر، زعيم التيار الشيعي، باستئناف ...   \n353    695  حاول زوكربيرغ التقليل من تأثير فيسبوك في انتخا...   \n354    696  أبدى الجربا رئيس الائتلاف السوري المعارض تمسكه...   \n355    697  رفض النشطاء اعتذار نائب رئيس الوزراء بولنت أري...   \n356    698  أعلن الجيش الباكستاني عن مقتل القائد في تنظيم ...   \n\n                                                 label  \\\n0    كشفت ألمانيا النقاب عن خطط لإضافة الجزائر والم...   \n1    قال التليفزيون السوري إن قوات الحكومة استعادت ...   \n2    توج فريق الارسنال ببطولة كأس انجلترا لكرة القد...   \n3    يوضع الصراع في العراق غالبا في إطار صراع بين ا...   \n4    استردت القوات الحكومية السورية ومقاتلون متحالف...   \n..                                                 ...   \n352  بدأ المئات من أنصار الزعيم الديني مقتدى الصدر ...   \n353  ازدادت الانتقادات لموقع فيسبوك للتواصل الاجتما...   \n354  نفت المعارضة السورية ادعاءات روسيا بشأن استخدا...   \n355  طالب المتظاهرون في تركيا بإقصاء قادة الشرطة في...   \n356  اكد الجيش الباكستاني السبت انه قتل احد قادة تن...   \n\n                                        gpt_prediction  \\\n0    أعلن وزير الاقتصاد الألماني سيغمار غابريل أن م...   \n1    أعلنت وسائل الإعلام السورية أن الجيش استعاد ال...   \n2    في مباراة بين هال سيتي وأرسنال، تمكن هال سيتي ...   \n3    يتحدث النص عن وجود مجموعات مختلفة من الأقليات ...   \n4    تمكنت القوات الحكومية السورية من استعادة السيط...   \n..                                                 ...   \n352  توعد زعيم التيار الشيعي في العراق بمواصلة الاح...   \n353  مارك زوكربيرغ، مؤسس فيسبوك، حاول التقليل من دو...   \n354  أكد الجربا، رئيس الائتلاف الوطني السوري المعار...   \n355  نشطاء في تركيا رفضوا اعتذار نائب رئيس الوزراء ...   \n356  أعلن التلفزيون الباكستاني عن مقتل القيادي البا...   \n\n                                           label_lemma  \\\n0    كشف ألمانيا نقاب عن خطط إضافة جزائر مغرب تونس ...   \n1    قال التليفزيون سورة إن قوة حكومة استعاد سيطرة ...   \n2    توج ريق الارسنال بطولة أس انجلترا كرة قدم بعد ...   \n3    وضع صراع في عراق غالب في إطار صراع بين شيع سنة...   \n4    استرد قوة حكومة سورة مقاتل متحالف مع بلد قر ، ...   \n..                                                 ...   \n352                                                NaN   \n353                                                NaN   \n354                                                NaN   \n355                                                NaN   \n356                                                NaN   \n\n                                  gpt_prediction_lemma  \\\n0    علن زير اقتصاد الألماني سيغمار غابريل أن مواطن...   \n1    علن سائل إعلام سورة أن جيش استعاد أمن استقرار ...   \n2    في مباراة بين هال سي وأرسنال ، تم هال سي من تس...   \n3    تحدث نص عن جود مجموع مختلف من أقل دين عرق في م...   \n4    تمكن قوة حكومة سورة من استعادة سيطرة على بلد ق...   \n..                                                 ...   \n352                                                NaN   \n353                                                NaN   \n354                                                NaN   \n355                                                NaN   \n356                                                NaN   \n\n                               gemini_prediction_lemma  \n0    ألمانيا تواجه صعوبة في تعامل مع زيادة أعداد طا...  \n1    علن سائل إعلام سورة أن جيش استعاد أمن استقرار ...  \n2    جآ ريق هال سي حضور تسجيل هدف مبكر في دقائق عشر...  \n3    تحدث نص عن جود مجموع متنوع من أقل دين عرق في م...  \n4    تمكن قوة حكومة سورة من استعادة سيطرة على بلد ق...  \n..                                                 ...  \n352                                                NaN  \n353                                                NaN  \n354                                                NaN  \n355                                                NaN  \n356                                                NaN  \n\n[357 rows x 7 columns]",
      "text/html": "<div>\n<style scoped>\n    .dataframe tbody tr th:only-of-type {\n        vertical-align: middle;\n    }\n\n    .dataframe tbody tr th {\n        vertical-align: top;\n    }\n\n    .dataframe thead th {\n        text-align: right;\n    }\n</style>\n<table border=\"1\" class=\"dataframe\">\n  <thead>\n    <tr style=\"text-align: right;\">\n      <th></th>\n      <th>q_idx</th>\n      <th>gemini_prediction</th>\n      <th>label</th>\n      <th>gpt_prediction</th>\n      <th>label_lemma</th>\n      <th>gpt_prediction_lemma</th>\n      <th>gemini_prediction_lemma</th>\n    </tr>\n  </thead>\n  <tbody>\n    <tr>\n      <th>0</th>\n      <td>1</td>\n      <td>ألمانيا تواجه صعوبات في التعامل مع زيادة أعداد...</td>\n      <td>كشفت ألمانيا النقاب عن خطط لإضافة الجزائر والم...</td>\n      <td>أعلن وزير الاقتصاد الألماني سيغمار غابريل أن م...</td>\n      <td>كشف ألمانيا نقاب عن خطط إضافة جزائر مغرب تونس ...</td>\n      <td>علن زير اقتصاد الألماني سيغمار غابريل أن مواطن...</td>\n      <td>ألمانيا تواجه صعوبة في تعامل مع زيادة أعداد طا...</td>\n    </tr>\n    <tr>\n      <th>1</th>\n      <td>2</td>\n      <td>أعلنت وسائل الإعلام السورية أن الجيش استعاد ال...</td>\n      <td>قال التليفزيون السوري إن قوات الحكومة استعادت ...</td>\n      <td>أعلنت وسائل الإعلام السورية أن الجيش استعاد ال...</td>\n      <td>قال التليفزيون سورة إن قوة حكومة استعاد سيطرة ...</td>\n      <td>علن سائل إعلام سورة أن جيش استعاد أمن استقرار ...</td>\n      <td>علن سائل إعلام سورة أن جيش استعاد أمن استقرار ...</td>\n    </tr>\n    <tr>\n      <th>2</th>\n      <td>3</td>\n      <td>فاجأ فريق هال سيتي الحضور بتسجيل هدفين مبكرين ...</td>\n      <td>توج فريق الارسنال ببطولة كأس انجلترا لكرة القد...</td>\n      <td>في مباراة بين هال سيتي وأرسنال، تمكن هال سيتي ...</td>\n      <td>توج ريق الارسنال بطولة أس انجلترا كرة قدم بعد ...</td>\n      <td>في مباراة بين هال سي وأرسنال ، تم هال سي من تس...</td>\n      <td>جآ ريق هال سي حضور تسجيل هدف مبكر في دقائق عشر...</td>\n    </tr>\n    <tr>\n      <th>3</th>\n      <td>4</td>\n      <td>يتحدث النص عن وجود مجموعات متنوعة من الأقليات ...</td>\n      <td>يوضع الصراع في العراق غالبا في إطار صراع بين ا...</td>\n      <td>يتحدث النص عن وجود مجموعات مختلفة من الأقليات ...</td>\n      <td>وضع صراع في عراق غالب في إطار صراع بين شيع سنة...</td>\n      <td>تحدث نص عن جود مجموع مختلف من أقل دين عرق في م...</td>\n      <td>تحدث نص عن جود مجموع متنوع من أقل دين عرق في م...</td>\n    </tr>\n    <tr>\n      <th>4</th>\n      <td>5</td>\n      <td>تمكنت القوات الحكومية السورية من استعادة السيط...</td>\n      <td>استردت القوات الحكومية السورية ومقاتلون متحالف...</td>\n      <td>تمكنت القوات الحكومية السورية من استعادة السيط...</td>\n      <td>استرد قوة حكومة سورة مقاتل متحالف مع بلد قر ، ...</td>\n      <td>تمكن قوة حكومة سورة من استعادة سيطرة على بلد ق...</td>\n      <td>تمكن قوة حكومة سورة من استعادة سيطرة على بلد ق...</td>\n    </tr>\n    <tr>\n      <th>...</th>\n      <td>...</td>\n      <td>...</td>\n      <td>...</td>\n      <td>...</td>\n      <td>...</td>\n      <td>...</td>\n      <td>...</td>\n    </tr>\n    <tr>\n      <th>352</th>\n      <td>694</td>\n      <td>هدد مقتدى الصدر، زعيم التيار الشيعي، باستئناف ...</td>\n      <td>بدأ المئات من أنصار الزعيم الديني مقتدى الصدر ...</td>\n      <td>توعد زعيم التيار الشيعي في العراق بمواصلة الاح...</td>\n      <td>NaN</td>\n      <td>NaN</td>\n      <td>NaN</td>\n    </tr>\n    <tr>\n      <th>353</th>\n      <td>695</td>\n      <td>حاول زوكربيرغ التقليل من تأثير فيسبوك في انتخا...</td>\n      <td>ازدادت الانتقادات لموقع فيسبوك للتواصل الاجتما...</td>\n      <td>مارك زوكربيرغ، مؤسس فيسبوك، حاول التقليل من دو...</td>\n      <td>NaN</td>\n      <td>NaN</td>\n      <td>NaN</td>\n    </tr>\n    <tr>\n      <th>354</th>\n      <td>696</td>\n      <td>أبدى الجربا رئيس الائتلاف السوري المعارض تمسكه...</td>\n      <td>نفت المعارضة السورية ادعاءات روسيا بشأن استخدا...</td>\n      <td>أكد الجربا، رئيس الائتلاف الوطني السوري المعار...</td>\n      <td>NaN</td>\n      <td>NaN</td>\n      <td>NaN</td>\n    </tr>\n    <tr>\n      <th>355</th>\n      <td>697</td>\n      <td>رفض النشطاء اعتذار نائب رئيس الوزراء بولنت أري...</td>\n      <td>طالب المتظاهرون في تركيا بإقصاء قادة الشرطة في...</td>\n      <td>نشطاء في تركيا رفضوا اعتذار نائب رئيس الوزراء ...</td>\n      <td>NaN</td>\n      <td>NaN</td>\n      <td>NaN</td>\n    </tr>\n    <tr>\n      <th>356</th>\n      <td>698</td>\n      <td>أعلن الجيش الباكستاني عن مقتل القائد في تنظيم ...</td>\n      <td>اكد الجيش الباكستاني السبت انه قتل احد قادة تن...</td>\n      <td>أعلن التلفزيون الباكستاني عن مقتل القيادي البا...</td>\n      <td>NaN</td>\n      <td>NaN</td>\n      <td>NaN</td>\n    </tr>\n  </tbody>\n</table>\n<p>357 rows × 7 columns</p>\n</div>"
     },
     "execution_count": 25,
     "metadata": {},
     "output_type": "execute_result"
    }
   ],
   "source": [
    "full"
   ],
   "metadata": {
    "collapsed": false,
    "ExecuteTime": {
     "end_time": "2024-11-05T18:01:42.341464Z",
     "start_time": "2024-11-05T18:01:42.326020Z"
    }
   },
   "id": "6642cc5bb064feaf"
  },
  {
   "cell_type": "code",
   "execution_count": null,
   "outputs": [],
   "source": [],
   "metadata": {
    "collapsed": false
   },
   "id": "d24ddb7c341f8a51"
  }
 ],
 "metadata": {
  "kernelspec": {
   "display_name": "Python 3",
   "language": "python",
   "name": "python3"
  },
  "language_info": {
   "codemirror_mode": {
    "name": "ipython",
    "version": 2
   },
   "file_extension": ".py",
   "mimetype": "text/x-python",
   "name": "python",
   "nbconvert_exporter": "python",
   "pygments_lexer": "ipython2",
   "version": "2.7.6"
  }
 },
 "nbformat": 4,
 "nbformat_minor": 5
}
