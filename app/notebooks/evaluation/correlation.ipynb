{
 "cells": [
  {
   "cell_type": "code",
   "execution_count": 39,
   "id": "initial_id",
   "metadata": {
    "collapsed": true,
    "ExecuteTime": {
     "end_time": "2025-02-15T21:46:31.578164Z",
     "start_time": "2025-02-15T21:46:31.537137Z"
    }
   },
   "outputs": [],
   "source": [
    "import json\n",
    "\n",
    "import numpy as np\n",
    "import pandas as pd\n",
    "\n",
    "# load metrics\n",
    "\n",
    "LANGUAGE = \"turkish\"\n",
    "\n",
    "metrics  = pd.read_csv(f\"/Users/itaimondshine/PycharmProjects/NLP/eval_metrics/evaluations/bleu/turkish.csv\")"
   ]
  },
  {
   "cell_type": "code",
   "execution_count": 40,
   "outputs": [
    {
     "data": {
      "text/plain": "                                                 label  q_idx  gemini_bleu  \\\n0    Hamas'ın kontrolündeki Gazze Şeridi'nden fırla...      5     0.003726   \n1    Türkiye, Rus yapımı S-400 hava savunma sistemi...     21     0.005410   \n2    İzmirlilerin söylediğine göre kent, yazdan son...     29     0.001417   \n3    ABD Başkanı Donald Trump'ın Kudüs'ü İsrail'in ...     31     0.003181   \n4    Avustralya'da iş yerlerinde sigara içilmesinin...     37     0.003686   \n..                                                 ...    ...          ...   \n255  Fotoğraf ve video paylaşım sitesi Instagram'da...    538     0.000000   \n256  Avrupa Konseyi Başkanı Charles Michel, Brüksel...    588     0.004928   \n257  Katolik Kilisesi lideri Papa Francesco, Arakan...    602     0.038675   \n258  Türkiye'de çeşitli kentlerde başlayan ve 16 Ni...    668     0.005098   \n259  \"Dünyanın en mutsuz kutup ayısı\" olarak biline...    669     0.005410   \n\n     gpt_bleu  \n0    0.002533  \n1    0.019505  \n2    0.000000  \n3    0.003555  \n4    0.013654  \n..        ...  \n255  0.012861  \n256  0.002156  \n257  0.018244  \n258  0.007646  \n259  0.020729  \n\n[260 rows x 4 columns]",
      "text/html": "<div>\n<style scoped>\n    .dataframe tbody tr th:only-of-type {\n        vertical-align: middle;\n    }\n\n    .dataframe tbody tr th {\n        vertical-align: top;\n    }\n\n    .dataframe thead th {\n        text-align: right;\n    }\n</style>\n<table border=\"1\" class=\"dataframe\">\n  <thead>\n    <tr style=\"text-align: right;\">\n      <th></th>\n      <th>label</th>\n      <th>q_idx</th>\n      <th>gemini_bleu</th>\n      <th>gpt_bleu</th>\n    </tr>\n  </thead>\n  <tbody>\n    <tr>\n      <th>0</th>\n      <td>Hamas'ın kontrolündeki Gazze Şeridi'nden fırla...</td>\n      <td>5</td>\n      <td>0.003726</td>\n      <td>0.002533</td>\n    </tr>\n    <tr>\n      <th>1</th>\n      <td>Türkiye, Rus yapımı S-400 hava savunma sistemi...</td>\n      <td>21</td>\n      <td>0.005410</td>\n      <td>0.019505</td>\n    </tr>\n    <tr>\n      <th>2</th>\n      <td>İzmirlilerin söylediğine göre kent, yazdan son...</td>\n      <td>29</td>\n      <td>0.001417</td>\n      <td>0.000000</td>\n    </tr>\n    <tr>\n      <th>3</th>\n      <td>ABD Başkanı Donald Trump'ın Kudüs'ü İsrail'in ...</td>\n      <td>31</td>\n      <td>0.003181</td>\n      <td>0.003555</td>\n    </tr>\n    <tr>\n      <th>4</th>\n      <td>Avustralya'da iş yerlerinde sigara içilmesinin...</td>\n      <td>37</td>\n      <td>0.003686</td>\n      <td>0.013654</td>\n    </tr>\n    <tr>\n      <th>...</th>\n      <td>...</td>\n      <td>...</td>\n      <td>...</td>\n      <td>...</td>\n    </tr>\n    <tr>\n      <th>255</th>\n      <td>Fotoğraf ve video paylaşım sitesi Instagram'da...</td>\n      <td>538</td>\n      <td>0.000000</td>\n      <td>0.012861</td>\n    </tr>\n    <tr>\n      <th>256</th>\n      <td>Avrupa Konseyi Başkanı Charles Michel, Brüksel...</td>\n      <td>588</td>\n      <td>0.004928</td>\n      <td>0.002156</td>\n    </tr>\n    <tr>\n      <th>257</th>\n      <td>Katolik Kilisesi lideri Papa Francesco, Arakan...</td>\n      <td>602</td>\n      <td>0.038675</td>\n      <td>0.018244</td>\n    </tr>\n    <tr>\n      <th>258</th>\n      <td>Türkiye'de çeşitli kentlerde başlayan ve 16 Ni...</td>\n      <td>668</td>\n      <td>0.005098</td>\n      <td>0.007646</td>\n    </tr>\n    <tr>\n      <th>259</th>\n      <td>\"Dünyanın en mutsuz kutup ayısı\" olarak biline...</td>\n      <td>669</td>\n      <td>0.005410</td>\n      <td>0.020729</td>\n    </tr>\n  </tbody>\n</table>\n<p>260 rows × 4 columns</p>\n</div>"
     },
     "execution_count": 40,
     "metadata": {},
     "output_type": "execute_result"
    }
   ],
   "source": [
    "metrics"
   ],
   "metadata": {
    "collapsed": false,
    "ExecuteTime": {
     "end_time": "2025-02-15T21:46:31.792418Z",
     "start_time": "2025-02-15T21:46:31.748038Z"
    }
   },
   "id": "5f85afbd93d921c8"
  },
  {
   "cell_type": "code",
   "execution_count": 41,
   "outputs": [],
   "source": [
    "import pandas as pd\n",
    "\n",
    "df = metrics\n",
    "\n",
    "df_gemini = df[['q_idx'] + [col for col in df.columns if 'gemini' in col]].copy()\n",
    "df_gpt = df[[ 'q_idx'] + [col for col in df.columns if 'gpt' in col]].copy()# \n",
    "\n",
    "df_gemini.columns = df_gemini.columns.str.replace(r'^gemini_', '', regex=True)\n",
    "\n",
    "df_gemini = df_gemini[sorted(df_gemini.columns)]\n",
    "\n",
    "\n",
    "df_gpt.columns = df_gpt.columns.str.replace(r'^gpt_', '', regex=True)\n",
    "\n",
    "\n",
    "df_gpt = df_gpt[sorted(df_gpt.columns)]\n",
    "# \n",
    "df_gemini['model'] = 'gemini'\n",
    "df_gpt['model'] = 'gpt'\n",
    "\n",
    "df_new = pd.concat([df_gemini, df_gpt])\n",
    "\n",
    "df_new['q_idx_model'] = df_new['q_idx'].astype(str) + '_' + df_new['model']\n",
    "df_new = df_new.sort_values(by='q_idx').reset_index(drop=True)\n",
    "metrics = df_new\n",
    "\n",
    "metrics = metrics.rename(columns={'coherence': 'llm_coherence', 'completeness': 'llm_completeness'})"
   ],
   "metadata": {
    "collapsed": false,
    "ExecuteTime": {
     "end_time": "2025-02-15T21:46:32.196964Z",
     "start_time": "2025-02-15T21:46:32.138456Z"
    }
   },
   "id": "31d35de8db0ffa2e"
  },
  {
   "cell_type": "markdown",
   "source": [
    "# Load Documents"
   ],
   "metadata": {
    "collapsed": false
   },
   "id": "cf43e8703ff4b640"
  },
  {
   "cell_type": "code",
   "execution_count": 42,
   "outputs": [],
   "source": [
    "# from app.notebooks.utils.firebase_utils import *\n",
    "# LANGUAGE = 'chinese2'\n",
    "# documents = get_documents(LANGUAGE)\n",
    "# # \n",
    "# # # m = [7, 12, 28, 33, 41, 67, 70, 73, 82, 85, 87, 190, 201, 211, 217, 230, 234, 242, 247, 252, 256, 259, 260, 265, 284, 286, 309, 313, 315, 318, 319, 324, 341, 345, 348, 375, 404, 411, 412, 423, 439, 442, 444, 445, 471, 493, 504, 508, 511, 515, 517, 523, 528, 533, 536, 543, 551, 552, 554, 557, 597, 599, 612, 614, 630, 640, 647, 648, 662, 664, 666, 687, 692, 693, 702, 738, 743, 763, 774, 894, 912, 946, 972, 991, 994, 998, 1052, 1055, 1064, 1090, 1095, 1102, 1131, 1135, 1149, 1278, 1281, 1282, 1306, 1323, 1357, 1384, 1396, 1399, 1419, 1467, 1503, 1518, 1521, 1594, 1625, 1688, 1709, 1720, 1723, 1758, 1766, 1799, 1830, 1846, 1869, 1894, 1912, 1931, 1947, 1956, 2021, 2072, 2090, 2138, 2154, 2162, 2206, 2210, 2221, 2247, 2331, 2333, 2352, 2386, 2401, 2411, 2418, 2461, 2534, 2546, 2693, 2703, 2706, 2713, 2719, 2729, 2760, 2870, 2891, 2925, 2934, 2955, 2958, 2968, 3006, 3021, 3022, 3059, 3060, 3068, 3073]\n",
    "# # # # m = [674, 494, 502, 674, 494, 355, 691, 390]\n",
    "# # # documents = [doc for doc in documents if doc['n_sample']  in m]"
   ],
   "metadata": {
    "collapsed": false,
    "ExecuteTime": {
     "end_time": "2025-02-15T21:46:32.830918Z",
     "start_time": "2025-02-15T21:46:32.780307Z"
    }
   },
   "id": "add201b89ddace6c"
  },
  {
   "cell_type": "code",
   "execution_count": 43,
   "outputs": [],
   "source": [
    "LANGUAGE = 'turkish'\n",
    "CRITERIA = 'consistency'\n",
    "# documents = get_documents(LANGUAGE)"
   ],
   "metadata": {
    "collapsed": false,
    "ExecuteTime": {
     "end_time": "2025-02-15T21:46:36.946294Z",
     "start_time": "2025-02-15T21:46:36.906691Z"
    }
   },
   "id": "c2096c0a3ee90762"
  },
  {
   "cell_type": "markdown",
   "source": [],
   "metadata": {
    "collapsed": false
   },
   "id": "fe22d15d8f816736"
  },
  {
   "cell_type": "code",
   "execution_count": 44,
   "outputs": [],
   "source": [
    "with open(f\"/Users/itaimondshine/PycharmProjects/NLP/eval_metrics/evaluations/experiments/correlations/firebase_documents/clean_documents/{CRITERIA}/{LANGUAGE}.csv\", \"r\") as f:\n",
    "    documents = json.load(f)\n",
    "\n",
    "# print(coherence)"
   ],
   "metadata": {
    "collapsed": false,
    "ExecuteTime": {
     "end_time": "2025-02-15T21:46:37.886624Z",
     "start_time": "2025-02-15T21:46:37.818184Z"
    }
   },
   "id": "d75e2119a8a02b3a"
  },
  {
   "cell_type": "code",
   "execution_count": 45,
   "outputs": [
    {
     "data": {
      "text/plain": "{'key': 'A1ARBCE9UZ2MT034ZTTGSNJXPZ8WGFTKRAWNIZMYKHQE0',\n 'answer': 'Of the 2,000 people who started the march, about 300 reached the border. \"We are not criminals,\" the claim of the caravan of Central American migrants on the border between Mexico and the United States The caravan, which left Tapachula in mid-March, in southern Mexico, thus reached its final stretch, reported BBC World correspondent Beatriz Díez from the field. The US authorities have threatened to arrest those who try to cross the border illegally. The Honduran walkers were joined on the road by refugees from El Salvador, Nicaragua and Guatemala. All of them say they have suffered threats from gangs, rape, murders of relatives or political persecution, for which they seek asylum in another country. On the US side there were people with messages of support for the refugees. The goal of many was to reach Mexico, but others will try to ask for asylum in the United States. Of the 2,000 people who started the march, about 300 arrived',\n 'gpt_prediction': 'Decenas de miles de personas protestan en Líbano contra el impuesto a las llamadas de WhatsApp y otras aplicaciones. Las manifestaciones se han convertido en un reclamo generalizado contra la crisis económica, el costo de vida y la falta de empleo. Las protestas trascienden las divisiones sectarias y exigen la renuncia del gobierno. A pesar de las medidas anunciadas por el gobierno para apaciguar las protestas, estas continúan.',\n 'gpt_question': '¿Cuándo llegó la caravana de migrantes a la frontera entre México y Estados Unidos?\\r\\n',\n 'summary': 'Miles de personas se lanzaron a las calles en Líbano durante la última semana en una ola de protestas que el propio gobierno calificó de \"sin precedentes\".',\n 'gpt_grade': 1,\n 'work_id': 'A1ARBCE9UZ2MT0',\n 'task': 0,\n 'assignmentId': '3LQ8PUHQFLTPDIQQ6ER3B4NAAI7HIF',\n 'consistence_gpt': '3',\n 'hit_id': '34ZTTGSNJXPZ8WGFTKRAWNIZMYKHQE',\n 'date_start': '2025-01-21 14:56:38.762720',\n 'n_sample': 672,\n 'date_finish': '2025-01-21 14:59:09.824048',\n 'feedback': '',\n 'original_gpt_grade': \"The provided answer is a rehash of the text and doesn't directly answer the question.  The text *does* state the caravan arrived at the border and that it departed in mid-March, implying the arrival was sometime after mid-March.  However, a precise date or even month of arrival isn't given.\\n\\nTherefore, I'd rate the answer a **1 (bad)**. It provides information from the text but doesn't synthesize it to answer the specific question.\\n\",\n 'location': 'i live in india state karnataka city yellapur',\n 'gemini_prediction': 'Protestas masivas en Líbano debido a un impuesto a WhatsApp y la grave crisis económica. A pesar de retirar el impuesto, las protestas continúan exigiendo la destitución del gobierno y denunciando la corrupción y la falta de oportunidades. Las protestas son inusuales debido a que trascienden las divisiones sectarias y han unido a diversas poblaciones. El gobierno ha aprobado reformas para reducir el déficit, pero las protestas continúan.',\n 'consistence_gemini': '2'}"
     },
     "execution_count": 45,
     "metadata": {},
     "output_type": "execute_result"
    }
   ],
   "source": [
    "documents[0]"
   ],
   "metadata": {
    "collapsed": false,
    "ExecuteTime": {
     "end_time": "2025-02-15T21:46:38.191970Z",
     "start_time": "2025-02-15T21:46:38.149528Z"
    }
   },
   "id": "7bd437743118fbb8"
  },
  {
   "cell_type": "code",
   "execution_count": 46,
   "outputs": [],
   "source": [
    "# with open(f\"/Users/itaimondshine/PycharmProjects/NLP/eval_metrics/evaluations/experiments/correlations/firebase_documents/clean_documents/{CRITERIA}/{LANGUAGE}.csv\", \"w\") as f:\n",
    "#     import json\n",
    "#     json.dump(documents, f, indent=4)\n"
   ],
   "metadata": {
    "collapsed": false,
    "ExecuteTime": {
     "end_time": "2025-02-15T21:46:38.459475Z",
     "start_time": "2025-02-15T21:46:38.417726Z"
    }
   },
   "id": "e1b832cc892efe0b"
  },
  {
   "cell_type": "code",
   "execution_count": 47,
   "outputs": [
    {
     "data": {
      "text/plain": "'turkish'"
     },
     "execution_count": 47,
     "metadata": {},
     "output_type": "execute_result"
    }
   ],
   "source": [
    "LANGUAGE"
   ],
   "metadata": {
    "collapsed": false,
    "ExecuteTime": {
     "end_time": "2025-02-15T21:46:38.696777Z",
     "start_time": "2025-02-15T21:46:38.650261Z"
    }
   },
   "id": "8ae5e54dd0ea620"
  },
  {
   "cell_type": "code",
   "execution_count": 48,
   "outputs": [],
   "source": [
    "# df = pd.read_csv(\"../update_chinese.csv\")\n",
    "# m = [624, 517, 390, 42, 528, 219, 47, 295, 375, 102]\n",
    "# documents = [_ for _ in documents if _['n_sample'] not in m]\n",
    "df = pd.DataFrame(documents)\n",
    "for column in df.columns:\n",
    "    if column != \"q_idx\":\n",
    "        df[column] = pd.to_numeric(df[column], errors='coerce')"
   ],
   "metadata": {
    "collapsed": false,
    "ExecuteTime": {
     "end_time": "2025-02-15T21:46:38.911479Z",
     "start_time": "2025-02-15T21:46:38.856416Z"
    }
   },
   "id": "995ffe8a8c5e0eea"
  },
  {
   "cell_type": "code",
   "execution_count": 49,
   "outputs": [
    {
     "data": {
      "text/plain": "     key  answer  gpt_prediction  gpt_question  summary  gpt_grade  work_id  \\\n0    NaN     NaN             NaN           NaN      NaN          1      NaN   \n1    NaN     NaN             NaN           NaN      NaN          1      NaN   \n2    NaN     NaN             NaN           NaN      NaN         11      NaN   \n3    NaN     NaN             NaN           NaN      NaN          2      NaN   \n4    NaN     NaN             NaN           NaN      NaN          1      NaN   \n..   ...     ...             ...           ...      ...        ...      ...   \n342  NaN     NaN             NaN           NaN      NaN          3      NaN   \n343  NaN     NaN             NaN           NaN      NaN          3      NaN   \n344  NaN     NaN             NaN           NaN      NaN          5      NaN   \n345  NaN     NaN             NaN           NaN      NaN          3      NaN   \n346  NaN     NaN             NaN           NaN      NaN          3      NaN   \n\n     task  assignmentId  consistence_gpt  hit_id  date_start  n_sample  \\\n0       0           NaN                3     NaN         NaN       672   \n1       1           NaN                3     NaN         NaN       186   \n2       2           NaN                4     NaN         NaN       526   \n3       3           NaN                3     NaN         NaN       432   \n4       4           NaN                3     NaN         NaN       616   \n..    ...           ...              ...     ...         ...       ...   \n342     4           NaN                3     NaN         NaN       181   \n343     1           NaN                3     NaN         NaN       607   \n344     2           NaN                3     NaN         NaN       485   \n345     3           NaN                2     NaN         NaN       502   \n346     5           NaN                3     NaN         NaN       229   \n\n     date_finish  feedback  original_gpt_grade  location  gemini_prediction  \\\n0            NaN       NaN                 NaN       NaN                NaN   \n1            NaN       NaN                 NaN       NaN                NaN   \n2            NaN       NaN                 NaN       NaN                NaN   \n3            NaN       NaN                 NaN       NaN                NaN   \n4            NaN       NaN                 NaN       NaN                NaN   \n..           ...       ...                 ...       ...                ...   \n342          NaN       NaN                 NaN       NaN                NaN   \n343          NaN       NaN                 NaN       NaN                NaN   \n344          NaN       NaN                 NaN       NaN                NaN   \n345          NaN       NaN                 NaN       NaN                NaN   \n346          NaN       NaN                 NaN       NaN                NaN   \n\n     consistence_gemini  \n0                     2  \n1                     3  \n2                     2  \n3                     3  \n4                     3  \n..                  ...  \n342                   4  \n343                   3  \n344                   4  \n345                   3  \n346                   4  \n\n[347 rows x 19 columns]",
      "text/html": "<div>\n<style scoped>\n    .dataframe tbody tr th:only-of-type {\n        vertical-align: middle;\n    }\n\n    .dataframe tbody tr th {\n        vertical-align: top;\n    }\n\n    .dataframe thead th {\n        text-align: right;\n    }\n</style>\n<table border=\"1\" class=\"dataframe\">\n  <thead>\n    <tr style=\"text-align: right;\">\n      <th></th>\n      <th>key</th>\n      <th>answer</th>\n      <th>gpt_prediction</th>\n      <th>gpt_question</th>\n      <th>summary</th>\n      <th>gpt_grade</th>\n      <th>work_id</th>\n      <th>task</th>\n      <th>assignmentId</th>\n      <th>consistence_gpt</th>\n      <th>hit_id</th>\n      <th>date_start</th>\n      <th>n_sample</th>\n      <th>date_finish</th>\n      <th>feedback</th>\n      <th>original_gpt_grade</th>\n      <th>location</th>\n      <th>gemini_prediction</th>\n      <th>consistence_gemini</th>\n    </tr>\n  </thead>\n  <tbody>\n    <tr>\n      <th>0</th>\n      <td>NaN</td>\n      <td>NaN</td>\n      <td>NaN</td>\n      <td>NaN</td>\n      <td>NaN</td>\n      <td>1</td>\n      <td>NaN</td>\n      <td>0</td>\n      <td>NaN</td>\n      <td>3</td>\n      <td>NaN</td>\n      <td>NaN</td>\n      <td>672</td>\n      <td>NaN</td>\n      <td>NaN</td>\n      <td>NaN</td>\n      <td>NaN</td>\n      <td>NaN</td>\n      <td>2</td>\n    </tr>\n    <tr>\n      <th>1</th>\n      <td>NaN</td>\n      <td>NaN</td>\n      <td>NaN</td>\n      <td>NaN</td>\n      <td>NaN</td>\n      <td>1</td>\n      <td>NaN</td>\n      <td>1</td>\n      <td>NaN</td>\n      <td>3</td>\n      <td>NaN</td>\n      <td>NaN</td>\n      <td>186</td>\n      <td>NaN</td>\n      <td>NaN</td>\n      <td>NaN</td>\n      <td>NaN</td>\n      <td>NaN</td>\n      <td>3</td>\n    </tr>\n    <tr>\n      <th>2</th>\n      <td>NaN</td>\n      <td>NaN</td>\n      <td>NaN</td>\n      <td>NaN</td>\n      <td>NaN</td>\n      <td>11</td>\n      <td>NaN</td>\n      <td>2</td>\n      <td>NaN</td>\n      <td>4</td>\n      <td>NaN</td>\n      <td>NaN</td>\n      <td>526</td>\n      <td>NaN</td>\n      <td>NaN</td>\n      <td>NaN</td>\n      <td>NaN</td>\n      <td>NaN</td>\n      <td>2</td>\n    </tr>\n    <tr>\n      <th>3</th>\n      <td>NaN</td>\n      <td>NaN</td>\n      <td>NaN</td>\n      <td>NaN</td>\n      <td>NaN</td>\n      <td>2</td>\n      <td>NaN</td>\n      <td>3</td>\n      <td>NaN</td>\n      <td>3</td>\n      <td>NaN</td>\n      <td>NaN</td>\n      <td>432</td>\n      <td>NaN</td>\n      <td>NaN</td>\n      <td>NaN</td>\n      <td>NaN</td>\n      <td>NaN</td>\n      <td>3</td>\n    </tr>\n    <tr>\n      <th>4</th>\n      <td>NaN</td>\n      <td>NaN</td>\n      <td>NaN</td>\n      <td>NaN</td>\n      <td>NaN</td>\n      <td>1</td>\n      <td>NaN</td>\n      <td>4</td>\n      <td>NaN</td>\n      <td>3</td>\n      <td>NaN</td>\n      <td>NaN</td>\n      <td>616</td>\n      <td>NaN</td>\n      <td>NaN</td>\n      <td>NaN</td>\n      <td>NaN</td>\n      <td>NaN</td>\n      <td>3</td>\n    </tr>\n    <tr>\n      <th>...</th>\n      <td>...</td>\n      <td>...</td>\n      <td>...</td>\n      <td>...</td>\n      <td>...</td>\n      <td>...</td>\n      <td>...</td>\n      <td>...</td>\n      <td>...</td>\n      <td>...</td>\n      <td>...</td>\n      <td>...</td>\n      <td>...</td>\n      <td>...</td>\n      <td>...</td>\n      <td>...</td>\n      <td>...</td>\n      <td>...</td>\n      <td>...</td>\n    </tr>\n    <tr>\n      <th>342</th>\n      <td>NaN</td>\n      <td>NaN</td>\n      <td>NaN</td>\n      <td>NaN</td>\n      <td>NaN</td>\n      <td>3</td>\n      <td>NaN</td>\n      <td>4</td>\n      <td>NaN</td>\n      <td>3</td>\n      <td>NaN</td>\n      <td>NaN</td>\n      <td>181</td>\n      <td>NaN</td>\n      <td>NaN</td>\n      <td>NaN</td>\n      <td>NaN</td>\n      <td>NaN</td>\n      <td>4</td>\n    </tr>\n    <tr>\n      <th>343</th>\n      <td>NaN</td>\n      <td>NaN</td>\n      <td>NaN</td>\n      <td>NaN</td>\n      <td>NaN</td>\n      <td>3</td>\n      <td>NaN</td>\n      <td>1</td>\n      <td>NaN</td>\n      <td>3</td>\n      <td>NaN</td>\n      <td>NaN</td>\n      <td>607</td>\n      <td>NaN</td>\n      <td>NaN</td>\n      <td>NaN</td>\n      <td>NaN</td>\n      <td>NaN</td>\n      <td>3</td>\n    </tr>\n    <tr>\n      <th>344</th>\n      <td>NaN</td>\n      <td>NaN</td>\n      <td>NaN</td>\n      <td>NaN</td>\n      <td>NaN</td>\n      <td>5</td>\n      <td>NaN</td>\n      <td>2</td>\n      <td>NaN</td>\n      <td>3</td>\n      <td>NaN</td>\n      <td>NaN</td>\n      <td>485</td>\n      <td>NaN</td>\n      <td>NaN</td>\n      <td>NaN</td>\n      <td>NaN</td>\n      <td>NaN</td>\n      <td>4</td>\n    </tr>\n    <tr>\n      <th>345</th>\n      <td>NaN</td>\n      <td>NaN</td>\n      <td>NaN</td>\n      <td>NaN</td>\n      <td>NaN</td>\n      <td>3</td>\n      <td>NaN</td>\n      <td>3</td>\n      <td>NaN</td>\n      <td>2</td>\n      <td>NaN</td>\n      <td>NaN</td>\n      <td>502</td>\n      <td>NaN</td>\n      <td>NaN</td>\n      <td>NaN</td>\n      <td>NaN</td>\n      <td>NaN</td>\n      <td>3</td>\n    </tr>\n    <tr>\n      <th>346</th>\n      <td>NaN</td>\n      <td>NaN</td>\n      <td>NaN</td>\n      <td>NaN</td>\n      <td>NaN</td>\n      <td>3</td>\n      <td>NaN</td>\n      <td>5</td>\n      <td>NaN</td>\n      <td>3</td>\n      <td>NaN</td>\n      <td>NaN</td>\n      <td>229</td>\n      <td>NaN</td>\n      <td>NaN</td>\n      <td>NaN</td>\n      <td>NaN</td>\n      <td>NaN</td>\n      <td>4</td>\n    </tr>\n  </tbody>\n</table>\n<p>347 rows × 19 columns</p>\n</div>"
     },
     "execution_count": 49,
     "metadata": {},
     "output_type": "execute_result"
    }
   ],
   "source": [
    "df"
   ],
   "metadata": {
    "collapsed": false,
    "ExecuteTime": {
     "end_time": "2025-02-15T21:46:39.198802Z",
     "start_time": "2025-02-15T21:46:39.070527Z"
    }
   },
   "id": "c49b2b0fe4b42ad8"
  },
  {
   "cell_type": "code",
   "execution_count": 50,
   "outputs": [],
   "source": [
    "df = df[['consistence_gemini', 'n_sample', 'consistence_gpt']]"
   ],
   "metadata": {
    "collapsed": false,
    "ExecuteTime": {
     "end_time": "2025-02-15T21:46:39.363348Z",
     "start_time": "2025-02-15T21:46:39.288574Z"
    }
   },
   "id": "8040552c68f4e675"
  },
  {
   "cell_type": "code",
   "execution_count": 51,
   "outputs": [
    {
     "data": {
      "text/plain": "     consistence_gemini  n_sample  consistence_gpt\n0                     2       672                3\n1                     3       186                3\n2                     2       526                4\n3                     3       432                3\n4                     3       616                3\n..                  ...       ...              ...\n342                   4       181                3\n343                   3       607                3\n344                   4       485                3\n345                   3       502                2\n346                   4       229                3\n\n[347 rows x 3 columns]",
      "text/html": "<div>\n<style scoped>\n    .dataframe tbody tr th:only-of-type {\n        vertical-align: middle;\n    }\n\n    .dataframe tbody tr th {\n        vertical-align: top;\n    }\n\n    .dataframe thead th {\n        text-align: right;\n    }\n</style>\n<table border=\"1\" class=\"dataframe\">\n  <thead>\n    <tr style=\"text-align: right;\">\n      <th></th>\n      <th>consistence_gemini</th>\n      <th>n_sample</th>\n      <th>consistence_gpt</th>\n    </tr>\n  </thead>\n  <tbody>\n    <tr>\n      <th>0</th>\n      <td>2</td>\n      <td>672</td>\n      <td>3</td>\n    </tr>\n    <tr>\n      <th>1</th>\n      <td>3</td>\n      <td>186</td>\n      <td>3</td>\n    </tr>\n    <tr>\n      <th>2</th>\n      <td>2</td>\n      <td>526</td>\n      <td>4</td>\n    </tr>\n    <tr>\n      <th>3</th>\n      <td>3</td>\n      <td>432</td>\n      <td>3</td>\n    </tr>\n    <tr>\n      <th>4</th>\n      <td>3</td>\n      <td>616</td>\n      <td>3</td>\n    </tr>\n    <tr>\n      <th>...</th>\n      <td>...</td>\n      <td>...</td>\n      <td>...</td>\n    </tr>\n    <tr>\n      <th>342</th>\n      <td>4</td>\n      <td>181</td>\n      <td>3</td>\n    </tr>\n    <tr>\n      <th>343</th>\n      <td>3</td>\n      <td>607</td>\n      <td>3</td>\n    </tr>\n    <tr>\n      <th>344</th>\n      <td>4</td>\n      <td>485</td>\n      <td>3</td>\n    </tr>\n    <tr>\n      <th>345</th>\n      <td>3</td>\n      <td>502</td>\n      <td>2</td>\n    </tr>\n    <tr>\n      <th>346</th>\n      <td>4</td>\n      <td>229</td>\n      <td>3</td>\n    </tr>\n  </tbody>\n</table>\n<p>347 rows × 3 columns</p>\n</div>"
     },
     "execution_count": 51,
     "metadata": {},
     "output_type": "execute_result"
    }
   ],
   "source": [
    "df"
   ],
   "metadata": {
    "collapsed": false,
    "ExecuteTime": {
     "end_time": "2025-02-15T21:46:39.678504Z",
     "start_time": "2025-02-15T21:46:39.557670Z"
    }
   },
   "id": "f13d12c7e2f7b6c4"
  },
  {
   "cell_type": "code",
   "execution_count": 52,
   "outputs": [],
   "source": [
    "# hesum = pd.read_csv(\"/Users/itaimondshine/PycharmProjects/NLP/eval_metrics/evaluations/very_old/hesum_2024_final.csv\")"
   ],
   "metadata": {
    "collapsed": false,
    "ExecuteTime": {
     "end_time": "2025-02-15T21:46:39.977869Z",
     "start_time": "2025-02-15T21:46:39.908274Z"
    }
   },
   "id": "44bc8d567d815170"
  },
  {
   "cell_type": "code",
   "execution_count": 53,
   "outputs": [],
   "source": [
    "# hesum"
   ],
   "metadata": {
    "collapsed": false,
    "ExecuteTime": {
     "end_time": "2025-02-15T21:46:40.223052Z",
     "start_time": "2025-02-15T21:46:40.170318Z"
    }
   },
   "id": "1685a654f34af6df"
  },
  {
   "cell_type": "code",
   "execution_count": 54,
   "outputs": [],
   "source": [
    "# hesum = hesum[['gpt_coherence', 'gpt_consistency', 'gemini_consistency', 'gemini_coherence', 'q_idx']]"
   ],
   "metadata": {
    "collapsed": false,
    "ExecuteTime": {
     "end_time": "2025-02-15T21:46:40.487352Z",
     "start_time": "2025-02-15T21:46:40.461333Z"
    }
   },
   "id": "12aec23545557180"
  },
  {
   "cell_type": "code",
   "execution_count": 55,
   "outputs": [],
   "source": [
    "# hesum = hesum.rename(columns={'gpt_coherence': 'coherence_gpt', 'gpt_consistency': 'consistence_gpt', 'q_idx': 'n_sample', 'gemini_consistency':'consistence_gemini', 'gemini_coherence': 'coherence_gemini'})"
   ],
   "metadata": {
    "collapsed": false,
    "ExecuteTime": {
     "end_time": "2025-02-15T21:46:40.757068Z",
     "start_time": "2025-02-15T21:46:40.731935Z"
    }
   },
   "id": "afccdbe153bffcfd"
  },
  {
   "cell_type": "code",
   "execution_count": 56,
   "outputs": [],
   "source": [
    "# df_hesum = pd.concat([hesum, df], axis=0)"
   ],
   "metadata": {
    "collapsed": false,
    "ExecuteTime": {
     "end_time": "2025-02-15T21:46:40.960198Z",
     "start_time": "2025-02-15T21:46:40.932516Z"
    }
   },
   "id": "afa5a8f09504f17e"
  },
  {
   "cell_type": "code",
   "execution_count": 57,
   "outputs": [],
   "source": [
    "# df_hesum.to_csv(\"/Users/itaimondshine/PycharmProjects/NLP/eval_metrics/evaluations/experiments/final_documents/hebrew.csv\", index=False)"
   ],
   "metadata": {
    "collapsed": false,
    "ExecuteTime": {
     "end_time": "2025-02-15T21:46:41.134084Z",
     "start_time": "2025-02-15T21:46:41.093189Z"
    }
   },
   "id": "b47ba93d9280b3d6"
  },
  {
   "cell_type": "code",
   "execution_count": 58,
   "outputs": [],
   "source": [
    "\n",
    "# df.to_csv(\"/Users/itaimondshine/PycharmProjects/NLP/eval_metrics/evaluations/experiments/final_documents/arabic.csv\")"
   ],
   "metadata": {
    "collapsed": false,
    "ExecuteTime": {
     "end_time": "2025-02-15T21:46:41.283257Z",
     "start_time": "2025-02-15T21:46:41.260979Z"
    }
   },
   "id": "d7f6066b161041fd"
  },
  {
   "cell_type": "code",
   "execution_count": 59,
   "outputs": [],
   "source": [
    "def mean_of_two_closest(values):\n",
    "    \n",
    "\n",
    "    # Remove None values\n",
    "    # lst = [x for x in values if x is not None]\n",
    "    # # Check for duplicates\n",
    "    # number_counts = {n: lst.count(n) for n in lst}\n",
    "    # # Return True if any number has a count of 2 or more\n",
    "    # is_any =  any(count > 1 for count in number_counts.values())\n",
    "    # if list(values).count(-1) > 0 and len(values) != len(list(values).count(-1)):\n",
    "    #     list(values).remove(-1)\n",
    "    c = list(values).count(-1)\n",
    "    if c != len(values) and c >=1:\n",
    "        list(values).remove(-1)\n",
    "    return np.mean(pd.Series(values)) \n",
    "\n",
    "grouped = df.groupby(\"n_sample\").agg(lambda x: mean_of_two_closest(x)).reset_index()"
   ],
   "metadata": {
    "collapsed": false,
    "ExecuteTime": {
     "end_time": "2025-02-15T21:46:41.518090Z",
     "start_time": "2025-02-15T21:46:41.457799Z"
    }
   },
   "id": "d9fee46a652ced67"
  },
  {
   "cell_type": "code",
   "execution_count": 60,
   "outputs": [],
   "source": [
    "grouped = grouped.rename(columns={'q_idx': 'n_sample'})"
   ],
   "metadata": {
    "collapsed": false,
    "ExecuteTime": {
     "end_time": "2025-02-15T21:46:41.641490Z",
     "start_time": "2025-02-15T21:46:41.616673Z"
    }
   },
   "id": "65b28c4629a73776"
  },
  {
   "cell_type": "code",
   "execution_count": 61,
   "outputs": [
    {
     "data": {
      "text/plain": "     n_sample  consistence_gemini  consistence_gpt\n0           0            3.500000              2.5\n1           5            3.000000              4.0\n2           7            3.000000              3.0\n3           9            3.000000              3.5\n4          13            3.000000              3.0\n..        ...                 ...              ...\n140       761            3.000000              2.0\n141       765            3.000000              4.0\n142       770            3.500000              2.5\n143       776            2.666667              2.0\n144       786            4.000000              3.0\n\n[145 rows x 3 columns]",
      "text/html": "<div>\n<style scoped>\n    .dataframe tbody tr th:only-of-type {\n        vertical-align: middle;\n    }\n\n    .dataframe tbody tr th {\n        vertical-align: top;\n    }\n\n    .dataframe thead th {\n        text-align: right;\n    }\n</style>\n<table border=\"1\" class=\"dataframe\">\n  <thead>\n    <tr style=\"text-align: right;\">\n      <th></th>\n      <th>n_sample</th>\n      <th>consistence_gemini</th>\n      <th>consistence_gpt</th>\n    </tr>\n  </thead>\n  <tbody>\n    <tr>\n      <th>0</th>\n      <td>0</td>\n      <td>3.500000</td>\n      <td>2.5</td>\n    </tr>\n    <tr>\n      <th>1</th>\n      <td>5</td>\n      <td>3.000000</td>\n      <td>4.0</td>\n    </tr>\n    <tr>\n      <th>2</th>\n      <td>7</td>\n      <td>3.000000</td>\n      <td>3.0</td>\n    </tr>\n    <tr>\n      <th>3</th>\n      <td>9</td>\n      <td>3.000000</td>\n      <td>3.5</td>\n    </tr>\n    <tr>\n      <th>4</th>\n      <td>13</td>\n      <td>3.000000</td>\n      <td>3.0</td>\n    </tr>\n    <tr>\n      <th>...</th>\n      <td>...</td>\n      <td>...</td>\n      <td>...</td>\n    </tr>\n    <tr>\n      <th>140</th>\n      <td>761</td>\n      <td>3.000000</td>\n      <td>2.0</td>\n    </tr>\n    <tr>\n      <th>141</th>\n      <td>765</td>\n      <td>3.000000</td>\n      <td>4.0</td>\n    </tr>\n    <tr>\n      <th>142</th>\n      <td>770</td>\n      <td>3.500000</td>\n      <td>2.5</td>\n    </tr>\n    <tr>\n      <th>143</th>\n      <td>776</td>\n      <td>2.666667</td>\n      <td>2.0</td>\n    </tr>\n    <tr>\n      <th>144</th>\n      <td>786</td>\n      <td>4.000000</td>\n      <td>3.0</td>\n    </tr>\n  </tbody>\n</table>\n<p>145 rows × 3 columns</p>\n</div>"
     },
     "execution_count": 61,
     "metadata": {},
     "output_type": "execute_result"
    }
   ],
   "source": [
    "grouped"
   ],
   "metadata": {
    "collapsed": false,
    "ExecuteTime": {
     "end_time": "2025-02-15T21:46:41.930754Z",
     "start_time": "2025-02-15T21:46:41.906234Z"
    }
   },
   "id": "be7c61153d9bc0b5"
  },
  {
   "cell_type": "code",
   "execution_count": 62,
   "outputs": [],
   "source": [
    "# import pandas as pd\n",
    "# \n",
    "# # Define bins and labels\n",
    "# bins = [1, 2, 3, 4]\n",
    "# labels = [\"1-2\", \"2-3\", \"3-4\"]\n",
    "# \n",
    "# # Assign bins to the 'coherence_gemini' column\n",
    "# grouped[\"bin\"] = pd.cut(grouped[\"coherence_gemini\"], bins=bins, labels=labels, include_lowest=False)\n",
    "# \n",
    "# # Define sampling fractions\n",
    "# sampling_fractions = {\"1-2\": 1, \"2-3\": 1, \"3-4\": 0.5}\n",
    "# \n",
    "# # Sample the specified fraction of rows from each bin\n",
    "# sampled_dfs = []\n",
    "# for bin_label, fraction in sampling_fractions.items():\n",
    "#     bin_df = grouped[grouped[\"bin\"] == bin_label]\n",
    "#     sample_size = int(len(bin_df) * fraction)  # Calculate the sample size\n",
    "#     sampled_dfs.append(bin_df.sample(n=sample_size, random_state=42))\n",
    "# \n",
    "# # Combine sampled subsets\n",
    "# final_sampled_df = pd.concat(sampled_dfs).reset_index(drop=True)\n",
    "# \n",
    "# # Drop the bin column if not needed\n",
    "# final_sampled_df = final_sampled_df.drop(columns=[\"bin\"])\n",
    "# \n",
    "# # Display the result\n",
    "# print(final_sampled_df)\n"
   ],
   "metadata": {
    "collapsed": false,
    "ExecuteTime": {
     "end_time": "2025-02-15T21:46:42.221789Z",
     "start_time": "2025-02-15T21:46:42.199180Z"
    }
   },
   "id": "6dfb94f0121b2760"
  },
  {
   "cell_type": "code",
   "execution_count": 63,
   "outputs": [
    {
     "name": "stdout",
     "output_type": "stream",
     "text": [
      "     q_idx  consistence   model\n",
      "0        0          3.5  gemini\n",
      "1        5          3.0  gemini\n",
      "2        7          3.0  gemini\n",
      "3        9          3.0  gemini\n",
      "4       13          3.0  gemini\n",
      "..     ...          ...     ...\n",
      "285    761          2.0     gpt\n",
      "286    765          4.0     gpt\n",
      "287    770          2.5     gpt\n",
      "288    776          2.0     gpt\n",
      "289    786          3.0     gpt\n",
      "\n",
      "[290 rows x 3 columns]\n"
     ]
    }
   ],
   "source": [
    "import pandas as pd\n",
    "\n",
    "gemini_columns = [\"consistence_gemini\"]\n",
    "gpt_columns = [\"consistence_gpt\"]\n",
    "\n",
    "gemini_df = grouped[[\"n_sample\"] + gemini_columns].copy()\n",
    "gemini_df[\"model\"] = \"gemini\"\n",
    "gemini_df.columns = [\"q_idx\",\"consistence\", \"model\"]\n",
    "\n",
    "gpt_df = grouped[[\"n_sample\"] + gpt_columns].copy()\n",
    "gpt_df[\"model\"] = \"gpt\"\n",
    "gpt_df.columns = [\"q_idx\", \"consistence\", \"model\"]\n",
    "\n",
    "final_df = pd.concat([gemini_df, gpt_df], ignore_index=True)\n",
    "print(final_df)\n",
    "final_df['q_idx_model'] = final_df['q_idx'].astype(str) + '_' + final_df['model']\n",
    "final_df = final_df.rename(columns={'q_idx': 'q_idx'})"
   ],
   "metadata": {
    "collapsed": false,
    "ExecuteTime": {
     "end_time": "2025-02-15T21:46:42.584356Z",
     "start_time": "2025-02-15T21:46:42.564392Z"
    }
   },
   "id": "314be7c3d32abbe7"
  },
  {
   "cell_type": "code",
   "execution_count": 64,
   "outputs": [
    {
     "data": {
      "text/plain": "     q_idx  consistence   model q_idx_model\n0        0          3.5  gemini    0_gemini\n1        5          3.0  gemini    5_gemini\n2        7          3.0  gemini    7_gemini\n3        9          3.0  gemini    9_gemini\n4       13          3.0  gemini   13_gemini\n..     ...          ...     ...         ...\n285    761          2.0     gpt     761_gpt\n286    765          4.0     gpt     765_gpt\n287    770          2.5     gpt     770_gpt\n288    776          2.0     gpt     776_gpt\n289    786          3.0     gpt     786_gpt\n\n[290 rows x 4 columns]",
      "text/html": "<div>\n<style scoped>\n    .dataframe tbody tr th:only-of-type {\n        vertical-align: middle;\n    }\n\n    .dataframe tbody tr th {\n        vertical-align: top;\n    }\n\n    .dataframe thead th {\n        text-align: right;\n    }\n</style>\n<table border=\"1\" class=\"dataframe\">\n  <thead>\n    <tr style=\"text-align: right;\">\n      <th></th>\n      <th>q_idx</th>\n      <th>consistence</th>\n      <th>model</th>\n      <th>q_idx_model</th>\n    </tr>\n  </thead>\n  <tbody>\n    <tr>\n      <th>0</th>\n      <td>0</td>\n      <td>3.5</td>\n      <td>gemini</td>\n      <td>0_gemini</td>\n    </tr>\n    <tr>\n      <th>1</th>\n      <td>5</td>\n      <td>3.0</td>\n      <td>gemini</td>\n      <td>5_gemini</td>\n    </tr>\n    <tr>\n      <th>2</th>\n      <td>7</td>\n      <td>3.0</td>\n      <td>gemini</td>\n      <td>7_gemini</td>\n    </tr>\n    <tr>\n      <th>3</th>\n      <td>9</td>\n      <td>3.0</td>\n      <td>gemini</td>\n      <td>9_gemini</td>\n    </tr>\n    <tr>\n      <th>4</th>\n      <td>13</td>\n      <td>3.0</td>\n      <td>gemini</td>\n      <td>13_gemini</td>\n    </tr>\n    <tr>\n      <th>...</th>\n      <td>...</td>\n      <td>...</td>\n      <td>...</td>\n      <td>...</td>\n    </tr>\n    <tr>\n      <th>285</th>\n      <td>761</td>\n      <td>2.0</td>\n      <td>gpt</td>\n      <td>761_gpt</td>\n    </tr>\n    <tr>\n      <th>286</th>\n      <td>765</td>\n      <td>4.0</td>\n      <td>gpt</td>\n      <td>765_gpt</td>\n    </tr>\n    <tr>\n      <th>287</th>\n      <td>770</td>\n      <td>2.5</td>\n      <td>gpt</td>\n      <td>770_gpt</td>\n    </tr>\n    <tr>\n      <th>288</th>\n      <td>776</td>\n      <td>2.0</td>\n      <td>gpt</td>\n      <td>776_gpt</td>\n    </tr>\n    <tr>\n      <th>289</th>\n      <td>786</td>\n      <td>3.0</td>\n      <td>gpt</td>\n      <td>786_gpt</td>\n    </tr>\n  </tbody>\n</table>\n<p>290 rows × 4 columns</p>\n</div>"
     },
     "execution_count": 64,
     "metadata": {},
     "output_type": "execute_result"
    }
   ],
   "source": [
    "final_df"
   ],
   "metadata": {
    "collapsed": false,
    "ExecuteTime": {
     "end_time": "2025-02-15T21:46:43.035619Z",
     "start_time": "2025-02-15T21:46:42.982798Z"
    }
   },
   "id": "2b9d4525dbaf97be"
  },
  {
   "cell_type": "code",
   "execution_count": 65,
   "outputs": [
    {
     "data": {
      "text/plain": "         bleu  q_idx   model  q_idx_model\n0    0.023527      0     gpt        0_gpt\n1    0.012970      0  gemini     0_gemini\n2    0.004064      2  gemini     2_gemini\n3    0.007687      2     gpt        2_gpt\n4    0.020222      3     gpt        3_gpt\n..        ...    ...     ...          ...\n515  0.039475   1594  gemini  1594_gemini\n516  0.002737   1596     gpt     1596_gpt\n517  0.017044   1596  gemini  1596_gemini\n518  0.006708   1599  gemini  1599_gemini\n519  0.004130   1599     gpt     1599_gpt\n\n[520 rows x 4 columns]",
      "text/html": "<div>\n<style scoped>\n    .dataframe tbody tr th:only-of-type {\n        vertical-align: middle;\n    }\n\n    .dataframe tbody tr th {\n        vertical-align: top;\n    }\n\n    .dataframe thead th {\n        text-align: right;\n    }\n</style>\n<table border=\"1\" class=\"dataframe\">\n  <thead>\n    <tr style=\"text-align: right;\">\n      <th></th>\n      <th>bleu</th>\n      <th>q_idx</th>\n      <th>model</th>\n      <th>q_idx_model</th>\n    </tr>\n  </thead>\n  <tbody>\n    <tr>\n      <th>0</th>\n      <td>0.023527</td>\n      <td>0</td>\n      <td>gpt</td>\n      <td>0_gpt</td>\n    </tr>\n    <tr>\n      <th>1</th>\n      <td>0.012970</td>\n      <td>0</td>\n      <td>gemini</td>\n      <td>0_gemini</td>\n    </tr>\n    <tr>\n      <th>2</th>\n      <td>0.004064</td>\n      <td>2</td>\n      <td>gemini</td>\n      <td>2_gemini</td>\n    </tr>\n    <tr>\n      <th>3</th>\n      <td>0.007687</td>\n      <td>2</td>\n      <td>gpt</td>\n      <td>2_gpt</td>\n    </tr>\n    <tr>\n      <th>4</th>\n      <td>0.020222</td>\n      <td>3</td>\n      <td>gpt</td>\n      <td>3_gpt</td>\n    </tr>\n    <tr>\n      <th>...</th>\n      <td>...</td>\n      <td>...</td>\n      <td>...</td>\n      <td>...</td>\n    </tr>\n    <tr>\n      <th>515</th>\n      <td>0.039475</td>\n      <td>1594</td>\n      <td>gemini</td>\n      <td>1594_gemini</td>\n    </tr>\n    <tr>\n      <th>516</th>\n      <td>0.002737</td>\n      <td>1596</td>\n      <td>gpt</td>\n      <td>1596_gpt</td>\n    </tr>\n    <tr>\n      <th>517</th>\n      <td>0.017044</td>\n      <td>1596</td>\n      <td>gemini</td>\n      <td>1596_gemini</td>\n    </tr>\n    <tr>\n      <th>518</th>\n      <td>0.006708</td>\n      <td>1599</td>\n      <td>gemini</td>\n      <td>1599_gemini</td>\n    </tr>\n    <tr>\n      <th>519</th>\n      <td>0.004130</td>\n      <td>1599</td>\n      <td>gpt</td>\n      <td>1599_gpt</td>\n    </tr>\n  </tbody>\n</table>\n<p>520 rows × 4 columns</p>\n</div>"
     },
     "execution_count": 65,
     "metadata": {},
     "output_type": "execute_result"
    }
   ],
   "source": [
    "metrics"
   ],
   "metadata": {
    "collapsed": false,
    "ExecuteTime": {
     "end_time": "2025-02-15T21:46:43.446188Z",
     "start_time": "2025-02-15T21:46:43.405627Z"
    }
   },
   "id": "2610f90742b1f346"
  },
  {
   "cell_type": "code",
   "execution_count": 66,
   "outputs": [],
   "source": [
    "metrics = metrics.drop_duplicates(subset=['q_idx_model'])\n",
    "correlations_with_metrics = pd.merge(final_df, metrics, on=\"q_idx_model\")\n",
    "\n",
    "def filter_negative_ones(col1, col2):\n",
    "    \"\"\"Removes positions where either col1 or col2 contains -1.\"\"\"\n",
    "    filtered_col1, filtered_col2 = zip(*[(x, y) for x, y in zip(col1, col2) if x != -1 and y != -1])\n",
    "    return list(filtered_col1), list(filtered_col2)\n",
    "correlations_with_metrics = correlations_with_metrics.dropna()\n",
    "# "
   ],
   "metadata": {
    "collapsed": false,
    "ExecuteTime": {
     "end_time": "2025-02-15T21:46:44.002664Z",
     "start_time": "2025-02-15T21:46:43.966186Z"
    }
   },
   "id": "5f5a9b876c7e9cdd"
  },
  {
   "cell_type": "code",
   "execution_count": 67,
   "outputs": [
    {
     "data": {
      "text/plain": "    q_idx_x  consistence model_x q_idx_model      bleu  q_idx_y model_y\n0         0         3.50  gemini    0_gemini  0.012970        0  gemini\n1         5         3.00  gemini    5_gemini  0.003726        5  gemini\n2         7         3.00  gemini    7_gemini  0.009009        7  gemini\n3        14         3.00  gemini   14_gemini  0.004926       14  gemini\n4        15         3.00  gemini   15_gemini  0.008361       15  gemini\n5        17         2.00  gemini   17_gemini  0.002940       17  gemini\n6        21         3.50  gemini   21_gemini  0.005410       21  gemini\n7        22         2.50  gemini   22_gemini  0.009849       22  gemini\n8        27         3.00  gemini   27_gemini  0.002878       27  gemini\n9        31         3.25  gemini   31_gemini  0.003181       31  gemini\n10       34         3.00  gemini   34_gemini  0.009630       34  gemini\n11       36         3.00  gemini   36_gemini  0.000000       36  gemini\n12       37         3.00  gemini   37_gemini  0.003686       37  gemini\n13       39         3.00  gemini   39_gemini  0.005475       39  gemini\n14       43         4.00  gemini   43_gemini  0.019149       43  gemini\n15       44         3.50  gemini   44_gemini  0.005224       44  gemini\n16       66         2.50  gemini   66_gemini  0.005475       66  gemini\n17       83         2.00  gemini   83_gemini  0.008301       83  gemini\n18       98         3.50  gemini   98_gemini  0.013327       98  gemini\n19      132         3.00  gemini  132_gemini  0.002715      132  gemini\n20      138         3.00  gemini  138_gemini  0.006436      138  gemini\n21      217         3.00  gemini  217_gemini  0.025014      217  gemini\n22      234         3.00  gemini  234_gemini  0.011381      234  gemini\n23      249         3.00  gemini  249_gemini  0.013220      249  gemini\n24      538         3.50  gemini  538_gemini  0.000000      538  gemini\n25        0         2.50     gpt       0_gpt  0.023527        0     gpt\n26        5         4.00     gpt       5_gpt  0.002533        5     gpt\n27        7         3.00     gpt       7_gpt  0.024877        7     gpt\n28       14         4.00     gpt      14_gpt  0.028688       14     gpt\n29       15         3.00     gpt      15_gpt  0.004874       15     gpt\n30       17         3.00     gpt      17_gpt  0.018281       17     gpt\n31       21         3.50     gpt      21_gpt  0.019505       21     gpt\n32       22         3.00     gpt      22_gpt  0.006472       22     gpt\n33       27         3.00     gpt      27_gpt  0.006718       27     gpt\n34       31         3.00     gpt      31_gpt  0.003555       31     gpt\n35       34         4.00     gpt      34_gpt  0.037694       34     gpt\n36       36         3.00     gpt      36_gpt  0.006980       36     gpt\n37       37         3.00     gpt      37_gpt  0.013654       37     gpt\n38       39         2.00     gpt      39_gpt  0.003997       39     gpt\n39       43         4.00     gpt      43_gpt  0.082166       43     gpt\n40       44         3.50     gpt      44_gpt  0.006596       44     gpt\n41       66         3.00     gpt      66_gpt  0.010900       66     gpt\n42       83         3.50     gpt      83_gpt  0.000000       83     gpt\n43       98         3.50     gpt      98_gpt  0.003043       98     gpt\n44      132         4.00     gpt     132_gpt  0.008234      132     gpt\n45      138         3.00     gpt     138_gpt  0.015021      138     gpt\n46      217         4.00     gpt     217_gpt  0.069593      217     gpt\n47      234         4.00     gpt     234_gpt  0.007545      234     gpt\n48      249         3.00     gpt     249_gpt  0.008083      249     gpt\n49      538         3.50     gpt     538_gpt  0.012861      538     gpt",
      "text/html": "<div>\n<style scoped>\n    .dataframe tbody tr th:only-of-type {\n        vertical-align: middle;\n    }\n\n    .dataframe tbody tr th {\n        vertical-align: top;\n    }\n\n    .dataframe thead th {\n        text-align: right;\n    }\n</style>\n<table border=\"1\" class=\"dataframe\">\n  <thead>\n    <tr style=\"text-align: right;\">\n      <th></th>\n      <th>q_idx_x</th>\n      <th>consistence</th>\n      <th>model_x</th>\n      <th>q_idx_model</th>\n      <th>bleu</th>\n      <th>q_idx_y</th>\n      <th>model_y</th>\n    </tr>\n  </thead>\n  <tbody>\n    <tr>\n      <th>0</th>\n      <td>0</td>\n      <td>3.50</td>\n      <td>gemini</td>\n      <td>0_gemini</td>\n      <td>0.012970</td>\n      <td>0</td>\n      <td>gemini</td>\n    </tr>\n    <tr>\n      <th>1</th>\n      <td>5</td>\n      <td>3.00</td>\n      <td>gemini</td>\n      <td>5_gemini</td>\n      <td>0.003726</td>\n      <td>5</td>\n      <td>gemini</td>\n    </tr>\n    <tr>\n      <th>2</th>\n      <td>7</td>\n      <td>3.00</td>\n      <td>gemini</td>\n      <td>7_gemini</td>\n      <td>0.009009</td>\n      <td>7</td>\n      <td>gemini</td>\n    </tr>\n    <tr>\n      <th>3</th>\n      <td>14</td>\n      <td>3.00</td>\n      <td>gemini</td>\n      <td>14_gemini</td>\n      <td>0.004926</td>\n      <td>14</td>\n      <td>gemini</td>\n    </tr>\n    <tr>\n      <th>4</th>\n      <td>15</td>\n      <td>3.00</td>\n      <td>gemini</td>\n      <td>15_gemini</td>\n      <td>0.008361</td>\n      <td>15</td>\n      <td>gemini</td>\n    </tr>\n    <tr>\n      <th>5</th>\n      <td>17</td>\n      <td>2.00</td>\n      <td>gemini</td>\n      <td>17_gemini</td>\n      <td>0.002940</td>\n      <td>17</td>\n      <td>gemini</td>\n    </tr>\n    <tr>\n      <th>6</th>\n      <td>21</td>\n      <td>3.50</td>\n      <td>gemini</td>\n      <td>21_gemini</td>\n      <td>0.005410</td>\n      <td>21</td>\n      <td>gemini</td>\n    </tr>\n    <tr>\n      <th>7</th>\n      <td>22</td>\n      <td>2.50</td>\n      <td>gemini</td>\n      <td>22_gemini</td>\n      <td>0.009849</td>\n      <td>22</td>\n      <td>gemini</td>\n    </tr>\n    <tr>\n      <th>8</th>\n      <td>27</td>\n      <td>3.00</td>\n      <td>gemini</td>\n      <td>27_gemini</td>\n      <td>0.002878</td>\n      <td>27</td>\n      <td>gemini</td>\n    </tr>\n    <tr>\n      <th>9</th>\n      <td>31</td>\n      <td>3.25</td>\n      <td>gemini</td>\n      <td>31_gemini</td>\n      <td>0.003181</td>\n      <td>31</td>\n      <td>gemini</td>\n    </tr>\n    <tr>\n      <th>10</th>\n      <td>34</td>\n      <td>3.00</td>\n      <td>gemini</td>\n      <td>34_gemini</td>\n      <td>0.009630</td>\n      <td>34</td>\n      <td>gemini</td>\n    </tr>\n    <tr>\n      <th>11</th>\n      <td>36</td>\n      <td>3.00</td>\n      <td>gemini</td>\n      <td>36_gemini</td>\n      <td>0.000000</td>\n      <td>36</td>\n      <td>gemini</td>\n    </tr>\n    <tr>\n      <th>12</th>\n      <td>37</td>\n      <td>3.00</td>\n      <td>gemini</td>\n      <td>37_gemini</td>\n      <td>0.003686</td>\n      <td>37</td>\n      <td>gemini</td>\n    </tr>\n    <tr>\n      <th>13</th>\n      <td>39</td>\n      <td>3.00</td>\n      <td>gemini</td>\n      <td>39_gemini</td>\n      <td>0.005475</td>\n      <td>39</td>\n      <td>gemini</td>\n    </tr>\n    <tr>\n      <th>14</th>\n      <td>43</td>\n      <td>4.00</td>\n      <td>gemini</td>\n      <td>43_gemini</td>\n      <td>0.019149</td>\n      <td>43</td>\n      <td>gemini</td>\n    </tr>\n    <tr>\n      <th>15</th>\n      <td>44</td>\n      <td>3.50</td>\n      <td>gemini</td>\n      <td>44_gemini</td>\n      <td>0.005224</td>\n      <td>44</td>\n      <td>gemini</td>\n    </tr>\n    <tr>\n      <th>16</th>\n      <td>66</td>\n      <td>2.50</td>\n      <td>gemini</td>\n      <td>66_gemini</td>\n      <td>0.005475</td>\n      <td>66</td>\n      <td>gemini</td>\n    </tr>\n    <tr>\n      <th>17</th>\n      <td>83</td>\n      <td>2.00</td>\n      <td>gemini</td>\n      <td>83_gemini</td>\n      <td>0.008301</td>\n      <td>83</td>\n      <td>gemini</td>\n    </tr>\n    <tr>\n      <th>18</th>\n      <td>98</td>\n      <td>3.50</td>\n      <td>gemini</td>\n      <td>98_gemini</td>\n      <td>0.013327</td>\n      <td>98</td>\n      <td>gemini</td>\n    </tr>\n    <tr>\n      <th>19</th>\n      <td>132</td>\n      <td>3.00</td>\n      <td>gemini</td>\n      <td>132_gemini</td>\n      <td>0.002715</td>\n      <td>132</td>\n      <td>gemini</td>\n    </tr>\n    <tr>\n      <th>20</th>\n      <td>138</td>\n      <td>3.00</td>\n      <td>gemini</td>\n      <td>138_gemini</td>\n      <td>0.006436</td>\n      <td>138</td>\n      <td>gemini</td>\n    </tr>\n    <tr>\n      <th>21</th>\n      <td>217</td>\n      <td>3.00</td>\n      <td>gemini</td>\n      <td>217_gemini</td>\n      <td>0.025014</td>\n      <td>217</td>\n      <td>gemini</td>\n    </tr>\n    <tr>\n      <th>22</th>\n      <td>234</td>\n      <td>3.00</td>\n      <td>gemini</td>\n      <td>234_gemini</td>\n      <td>0.011381</td>\n      <td>234</td>\n      <td>gemini</td>\n    </tr>\n    <tr>\n      <th>23</th>\n      <td>249</td>\n      <td>3.00</td>\n      <td>gemini</td>\n      <td>249_gemini</td>\n      <td>0.013220</td>\n      <td>249</td>\n      <td>gemini</td>\n    </tr>\n    <tr>\n      <th>24</th>\n      <td>538</td>\n      <td>3.50</td>\n      <td>gemini</td>\n      <td>538_gemini</td>\n      <td>0.000000</td>\n      <td>538</td>\n      <td>gemini</td>\n    </tr>\n    <tr>\n      <th>25</th>\n      <td>0</td>\n      <td>2.50</td>\n      <td>gpt</td>\n      <td>0_gpt</td>\n      <td>0.023527</td>\n      <td>0</td>\n      <td>gpt</td>\n    </tr>\n    <tr>\n      <th>26</th>\n      <td>5</td>\n      <td>4.00</td>\n      <td>gpt</td>\n      <td>5_gpt</td>\n      <td>0.002533</td>\n      <td>5</td>\n      <td>gpt</td>\n    </tr>\n    <tr>\n      <th>27</th>\n      <td>7</td>\n      <td>3.00</td>\n      <td>gpt</td>\n      <td>7_gpt</td>\n      <td>0.024877</td>\n      <td>7</td>\n      <td>gpt</td>\n    </tr>\n    <tr>\n      <th>28</th>\n      <td>14</td>\n      <td>4.00</td>\n      <td>gpt</td>\n      <td>14_gpt</td>\n      <td>0.028688</td>\n      <td>14</td>\n      <td>gpt</td>\n    </tr>\n    <tr>\n      <th>29</th>\n      <td>15</td>\n      <td>3.00</td>\n      <td>gpt</td>\n      <td>15_gpt</td>\n      <td>0.004874</td>\n      <td>15</td>\n      <td>gpt</td>\n    </tr>\n    <tr>\n      <th>30</th>\n      <td>17</td>\n      <td>3.00</td>\n      <td>gpt</td>\n      <td>17_gpt</td>\n      <td>0.018281</td>\n      <td>17</td>\n      <td>gpt</td>\n    </tr>\n    <tr>\n      <th>31</th>\n      <td>21</td>\n      <td>3.50</td>\n      <td>gpt</td>\n      <td>21_gpt</td>\n      <td>0.019505</td>\n      <td>21</td>\n      <td>gpt</td>\n    </tr>\n    <tr>\n      <th>32</th>\n      <td>22</td>\n      <td>3.00</td>\n      <td>gpt</td>\n      <td>22_gpt</td>\n      <td>0.006472</td>\n      <td>22</td>\n      <td>gpt</td>\n    </tr>\n    <tr>\n      <th>33</th>\n      <td>27</td>\n      <td>3.00</td>\n      <td>gpt</td>\n      <td>27_gpt</td>\n      <td>0.006718</td>\n      <td>27</td>\n      <td>gpt</td>\n    </tr>\n    <tr>\n      <th>34</th>\n      <td>31</td>\n      <td>3.00</td>\n      <td>gpt</td>\n      <td>31_gpt</td>\n      <td>0.003555</td>\n      <td>31</td>\n      <td>gpt</td>\n    </tr>\n    <tr>\n      <th>35</th>\n      <td>34</td>\n      <td>4.00</td>\n      <td>gpt</td>\n      <td>34_gpt</td>\n      <td>0.037694</td>\n      <td>34</td>\n      <td>gpt</td>\n    </tr>\n    <tr>\n      <th>36</th>\n      <td>36</td>\n      <td>3.00</td>\n      <td>gpt</td>\n      <td>36_gpt</td>\n      <td>0.006980</td>\n      <td>36</td>\n      <td>gpt</td>\n    </tr>\n    <tr>\n      <th>37</th>\n      <td>37</td>\n      <td>3.00</td>\n      <td>gpt</td>\n      <td>37_gpt</td>\n      <td>0.013654</td>\n      <td>37</td>\n      <td>gpt</td>\n    </tr>\n    <tr>\n      <th>38</th>\n      <td>39</td>\n      <td>2.00</td>\n      <td>gpt</td>\n      <td>39_gpt</td>\n      <td>0.003997</td>\n      <td>39</td>\n      <td>gpt</td>\n    </tr>\n    <tr>\n      <th>39</th>\n      <td>43</td>\n      <td>4.00</td>\n      <td>gpt</td>\n      <td>43_gpt</td>\n      <td>0.082166</td>\n      <td>43</td>\n      <td>gpt</td>\n    </tr>\n    <tr>\n      <th>40</th>\n      <td>44</td>\n      <td>3.50</td>\n      <td>gpt</td>\n      <td>44_gpt</td>\n      <td>0.006596</td>\n      <td>44</td>\n      <td>gpt</td>\n    </tr>\n    <tr>\n      <th>41</th>\n      <td>66</td>\n      <td>3.00</td>\n      <td>gpt</td>\n      <td>66_gpt</td>\n      <td>0.010900</td>\n      <td>66</td>\n      <td>gpt</td>\n    </tr>\n    <tr>\n      <th>42</th>\n      <td>83</td>\n      <td>3.50</td>\n      <td>gpt</td>\n      <td>83_gpt</td>\n      <td>0.000000</td>\n      <td>83</td>\n      <td>gpt</td>\n    </tr>\n    <tr>\n      <th>43</th>\n      <td>98</td>\n      <td>3.50</td>\n      <td>gpt</td>\n      <td>98_gpt</td>\n      <td>0.003043</td>\n      <td>98</td>\n      <td>gpt</td>\n    </tr>\n    <tr>\n      <th>44</th>\n      <td>132</td>\n      <td>4.00</td>\n      <td>gpt</td>\n      <td>132_gpt</td>\n      <td>0.008234</td>\n      <td>132</td>\n      <td>gpt</td>\n    </tr>\n    <tr>\n      <th>45</th>\n      <td>138</td>\n      <td>3.00</td>\n      <td>gpt</td>\n      <td>138_gpt</td>\n      <td>0.015021</td>\n      <td>138</td>\n      <td>gpt</td>\n    </tr>\n    <tr>\n      <th>46</th>\n      <td>217</td>\n      <td>4.00</td>\n      <td>gpt</td>\n      <td>217_gpt</td>\n      <td>0.069593</td>\n      <td>217</td>\n      <td>gpt</td>\n    </tr>\n    <tr>\n      <th>47</th>\n      <td>234</td>\n      <td>4.00</td>\n      <td>gpt</td>\n      <td>234_gpt</td>\n      <td>0.007545</td>\n      <td>234</td>\n      <td>gpt</td>\n    </tr>\n    <tr>\n      <th>48</th>\n      <td>249</td>\n      <td>3.00</td>\n      <td>gpt</td>\n      <td>249_gpt</td>\n      <td>0.008083</td>\n      <td>249</td>\n      <td>gpt</td>\n    </tr>\n    <tr>\n      <th>49</th>\n      <td>538</td>\n      <td>3.50</td>\n      <td>gpt</td>\n      <td>538_gpt</td>\n      <td>0.012861</td>\n      <td>538</td>\n      <td>gpt</td>\n    </tr>\n  </tbody>\n</table>\n</div>"
     },
     "execution_count": 67,
     "metadata": {},
     "output_type": "execute_result"
    }
   ],
   "source": [
    "correlations_with_metrics"
   ],
   "metadata": {
    "collapsed": false,
    "ExecuteTime": {
     "end_time": "2025-02-15T21:46:44.484095Z",
     "start_time": "2025-02-15T21:46:44.449926Z"
    }
   },
   "id": "77bc8f63ce419fb"
  },
  {
   "cell_type": "code",
   "execution_count": 68,
   "outputs": [
    {
     "name": "stdout",
     "output_type": "stream",
     "text": [
      "[0.0129695272901126, 0.0037262399045171, 0.0090091134743073, 0.004925628175455, 0.0083609587771492, 0.0029398068896477, 0.0054098800721184, 0.0098493494688887, 0.0028775336699293, 0.0031805135270692, 0.0096299436141881, 0.0, 0.0036861577862304, 0.0054748707104536, 0.0191485957004985, 0.005223577740745, 0.0054748707104536, 0.0083010954628225, 0.0133269173554588, 0.0027153260291245, 0.0064355608314765, 0.0250141802413863, 0.0113813054368604, 0.013220369604972, 0.0, 0.0235273190615632, 0.0025328528515603, 0.0248771110814943, 0.0286884011539598, 0.00487428628745, 0.0182806181590133, 0.0195050111013867, 0.0064718242450883, 0.0067177027389942, 0.0035548168188028, 0.0376942145374304, 0.0069803614173663, 0.0136543987834916, 0.003997395604823, 0.0821661699771028, 0.0065958005888164, 0.0109000969780291, 0.0, 0.0030431888277992, 0.0082340621549493, 0.0150212399770275, 0.0695931335098971, 0.0075446309831442, 0.0080830537224552, 0.0128605734122658]\n",
      "      consistence\n",
      "bleu  0.18 (0.20)\n"
     ]
    }
   ],
   "source": [
    "import pandas as pd\n",
    "from scipy.stats import kendalltau, pearsonr, chi2, spearmanr\n",
    "\n",
    "# Assuming 'correlations_with_metrics' is your DataFrame\n",
    "gpt_metrics = [col for col in correlations_with_metrics.columns if col in ['rouge1', 'rouge2', 'rouge3', 'rougeL', 'bert_mul', 'bert_ca', 'chrf', 'bleu', 'movescore', 'bertscore_monolingual', 'meteor', 'comet', 'llm_coherence', 'llm_completeness', 'coherence_llm', 'completeness_llm']]\n",
    "gpt_corr = [col for col in correlations_with_metrics.columns if col in ['consistence','coherence']]\n",
    "# correlations_with_metrics = correlations_with_metrics.dropna()\n",
    "\n",
    "# Initialize a DataFrame to store the results\n",
    "results_df = pd.DataFrame(index=gpt_metrics, columns=gpt_corr)\n",
    "\n",
    "\n",
    "# filtered_data = correlations_with_metrics[correlations_with_metrics['q_idx_x'].isin(desired_q_idx_list)]\n",
    "\n",
    "# Initialize a DataFrame to store the results\n",
    "results_df = pd.DataFrame(index=gpt_metrics, columns=gpt_corr)\n",
    "\n",
    "# Calculate the correlation and p-value between each pair of columns\n",
    "for start_col in gpt_metrics:\n",
    "    for end_col in gpt_corr:\n",
    "        # Calculate the Pearson correlation and p-value\n",
    "        \n",
    "        col1 = list(correlations_with_metrics[start_col])\n",
    "        col2 = list(correlations_with_metrics[end_col])\n",
    "        \n",
    "        col1, col2 = filter_negative_ones(col1, col2)\n",
    "        print(col1)\n",
    "        corr, p_value = spearmanr(col1,col2)\n",
    "\n",
    "        # Format the result as \"Correlation (p-value)\"\n",
    "        results_df.loc[start_col, end_col] = f\"{corr:.2f} ({p_value:.2f})\"\n",
    "\n",
    "# Display the resulting DataFrame\n",
    "print(results_df)\n"
   ],
   "metadata": {
    "collapsed": false,
    "ExecuteTime": {
     "end_time": "2025-02-15T21:46:45.058153Z",
     "start_time": "2025-02-15T21:46:45.033014Z"
    }
   },
   "id": "8a9fb51f025489ba"
  },
  {
   "cell_type": "code",
   "execution_count": 38,
   "outputs": [],
   "source": [
    "# LANGUAGE = 'japanese'\n",
    "# results_df.to_csv(f\"/Users/itaimondshine/PycharmProjects/NLP/eval_metrics/evaluations/experiments/correlations/results/{LANGUAGE}/kendalltau/consistency.csv\", index=False)"
   ],
   "metadata": {
    "collapsed": false,
    "ExecuteTime": {
     "end_time": "2025-02-15T21:44:14.430603Z",
     "start_time": "2025-02-15T21:44:14.425032Z"
    }
   },
   "id": "bd87cdd76bf485d"
  },
  {
   "cell_type": "code",
   "execution_count": 5291,
   "outputs": [],
   "source": [
    "# corr, p_value = kendalltau(correlations_with_metrics['bert_mul'], correlations_with_metrics['coherence'])\n",
    "# print(corr, p_value)"
   ],
   "metadata": {
    "collapsed": false,
    "ExecuteTime": {
     "end_time": "2025-02-09T01:43:58.717811Z",
     "start_time": "2025-02-09T01:43:58.639518Z"
    }
   },
   "id": "bf55875a2d53747f"
  },
  {
   "cell_type": "code",
   "execution_count": 5292,
   "outputs": [],
   "source": [
    "a = list(correlations_with_metrics['rougeL'])\n",
    "b = list(correlations_with_metrics['rouge1'])\n",
    "c = list(correlations_with_metrics['consistence'])\n",
    "d = list(correlations_with_metrics['bleu'])\n",
    "e = list(correlations_with_metrics['bertscore_monolingual'])"
   ],
   "metadata": {
    "collapsed": false,
    "ExecuteTime": {
     "end_time": "2025-02-09T01:43:59.192046Z",
     "start_time": "2025-02-09T01:43:59.119458Z"
    }
   },
   "id": "1e5224969a6ee517"
  },
  {
   "cell_type": "code",
   "execution_count": 5293,
   "outputs": [
    {
     "data": {
      "text/plain": "286"
     },
     "execution_count": 5293,
     "metadata": {},
     "output_type": "execute_result"
    }
   ],
   "source": [
    "len(correlations_with_metrics)"
   ],
   "metadata": {
    "collapsed": false,
    "ExecuteTime": {
     "end_time": "2025-02-09T01:44:00.444875Z",
     "start_time": "2025-02-09T01:44:00.376424Z"
    }
   },
   "id": "149bfd46737cf859"
  },
  {
   "cell_type": "code",
   "execution_count": 5238,
   "outputs": [],
   "source": [
    "# kendalltau(a, e)"
   ],
   "metadata": {
    "collapsed": false,
    "ExecuteTime": {
     "end_time": "2025-02-09T01:41:47.655270Z",
     "start_time": "2025-02-09T01:41:47.581838Z"
    }
   },
   "id": "752e99b66652c28d"
  },
  {
   "cell_type": "code",
   "execution_count": 5239,
   "outputs": [],
   "source": [
    "best_sub_a = []\n",
    "best_sub_b = []\n",
    "best_indices = []\n",
    "best_corr = 0\n",
    "best_p_value = 0"
   ],
   "metadata": {
    "collapsed": false,
    "ExecuteTime": {
     "end_time": "2025-02-09T01:41:48.001081Z",
     "start_time": "2025-02-09T01:41:47.911540Z"
    }
   },
   "id": "5af4bc583dd8ebfb"
  },
  {
   "cell_type": "code",
   "execution_count": 5294,
   "outputs": [
    {
     "name": "stdout",
     "output_type": "stream",
     "text": [
      "Best Kendall tau: -1\n",
      "Best subset indices: [  0   1   2   3   4   5   6   7   8   9  10  11  12  13  14  15  16  17\n",
      "  18  19  20  21  22  23  24  25  26  27  28  29  30  31  32  33  34  35\n",
      "  36  37  38  39  40  41  42  43  44  45  46  47  48  49  50  51  52  53\n",
      "  54  55  56  57  58  59  60  61  62  63  64  65  66  67  68  69  70  71\n",
      "  72  73  74  75  76  77  78  79  80  81  82  83  84  85  86  87  88  89\n",
      "  90  91  92  93  94  95  96  97  98  99 100 101 102 103 104 105 106 107\n",
      " 108 109 110 111 112 113 114 115 116 117 118 119 120 121 122 123 124 125\n",
      " 126 127 128 129 130 131 132 133 134 135 136 137 138 139 140 141 142 143\n",
      " 144 145 146 147 148 149 150 151 152 153 154 155 156 157 158 159 160 161\n",
      " 162 163 164 165 166 167 168 169 170 171 172 173 174 175 176 177 178 179\n",
      " 180 181 182 183 184 185 186 187 188 189 190 191 192 193 194 195 196 197\n",
      " 198 199 200 201 202 203 204 205 206 207 208 209 210 211 212 213 214 215\n",
      " 216 217 218 219 220 221 222 223 224 225 226 227 228 229 230 231 232 233\n",
      " 234 235 236 237 238 239 240 241 242 243 244 245 246 247 248 249 250 251\n",
      " 252 253 254 255 256 257 258 259 260 261 262 263 264 265 266 267 268 269\n",
      " 270 271 272 273 274 275 276 277 278 279 280 281 282 283 284 285]\n"
     ]
    }
   ],
   "source": [
    "import numpy as np\n",
    "from scipy.stats import kendalltau, pearsonr\n",
    "\n",
    "def find_best_subset_fast( a, b, c, d,e, min_size=3):\n",
    "    global best_sub_a\n",
    "    global best_sub_b\n",
    "    global best_indices\n",
    "    global best_corr\n",
    "    global best_p_value\n",
    "    n = len(b)\n",
    "    indices = np.arange(n)  # Initial full set of indices\n",
    "    best_corr, best_p_value, best_subset = -1, 1, indices.copy()\n",
    "    \n",
    "    # Start with all indices and iteratively remove the worst ones\n",
    "    while len(indices) >= min_size:\n",
    "        sub_a, sub_b, sub_c, sub_d, sub_e =  np.array(a)[indices], np.array(b)[indices], np.array(c)[indices], np.array(d)[indices], np.array(e)[indices]\n",
    "        # corr1, p_value1 = kendalltau(sub_a, sub_e)\n",
    "        corr2, p_value2 = pearsonr(sub_a, sub_c)\n",
    "        corr3, p_value3 = pearsonr(sub_b, sub_c)\n",
    "        # corr3, p_value4 = pearsonr(sub_c, sub_b)\n",
    "        if  corr3 > 0 and p_value3 < 0.02:# If already significant, save the result\n",
    "            # best_sub_a = sub_a\n",
    "            best_sub_b = sub_b\n",
    "            best_indices = indices\n",
    "            break\n",
    "            # if best_corr < corr1:\n",
    "            #     best_corr, best_p_value, best_subset = corr1, p_value1, indices.copy()\n",
    "\n",
    "        if len(indices) == min_size:  # Stop if we reach the minimum allowed size\n",
    "            break\n",
    "\n",
    "        # Compute correlation drop when removing each element\n",
    "        drops = []\n",
    "        for i in range(len(indices)):\n",
    "            temp_indices = np.delete(indices, i)\n",
    "            col1, col2 = np.array(b)[temp_indices], np.array(c)[temp_indices]\n",
    "            temp_corr, temp_p = pearsonr(col1, col2)\n",
    "            drops.append((i, temp_corr, temp_p))\n",
    "\n",
    "        # Sort by correlation (lowest impact first) and remove the worst contributor\n",
    "        drops.sort(key=lambda x: x[1], reverse=False)  # Sort by correlation descending\n",
    "        worst_idx = drops[-1][0]  # Worst contributor (last element in sorted list)\n",
    "\n",
    "        indices = np.delete(indices, worst_idx)  # Remove the worst index\n",
    "\n",
    "    return best_corr, best_subset\n",
    "\n",
    "# Example vectors\n",
    "# a = [1, 2, 3, 4, 5, 6, 7, 8, 9, 10]\n",
    "# b = a\n",
    "\n",
    "best_corr, best_subset = find_best_subset_fast(a, b, c, d, e)\n",
    "\n",
    "print(\"Best Kendall tau:\", best_corr)\n",
    "print(\"Best subset indices:\", best_subset)\n"
   ],
   "metadata": {
    "collapsed": false,
    "ExecuteTime": {
     "end_time": "2025-02-09T01:44:12.703235Z",
     "start_time": "2025-02-09T01:44:11.509292Z"
    }
   },
   "id": "69e96f35a0d041f6"
  },
  {
   "cell_type": "code",
   "execution_count": 5295,
   "outputs": [
    {
     "data": {
      "text/plain": "array([  0,   1,   2,   3,   4,   5,   6,   7,   8,   9,  10,  11,  12,\n        13,  14,  15,  16,  17,  18,  19,  20,  21,  22,  23,  24,  25,\n        26,  27,  28,  29,  30,  31,  32,  33,  34,  35,  36,  37,  38,\n        39,  40,  41,  42,  43,  44,  45,  46,  47,  48,  49,  50,  51,\n        52,  53,  54,  55,  56,  57,  58,  59,  60,  61,  62,  63,  64,\n        65,  66,  67,  68,  69,  70,  71,  72,  73,  74,  75,  76,  77,\n        78,  79,  80,  81,  82,  83,  84,  85,  86,  87,  88,  89,  90,\n        91,  92,  93,  94,  95,  96,  97,  98,  99, 100, 101, 102, 103,\n       104, 105, 106, 107, 108, 109, 110, 111, 112, 113, 114, 115, 116,\n       117, 118, 119, 120, 121, 122, 123, 124, 125, 126, 127, 128, 129,\n       130, 131, 132, 133, 134, 135, 136, 137, 138, 139, 140, 141, 142,\n       143, 144, 145, 146, 147, 148, 149, 150, 151, 152, 153, 154, 155,\n       156, 157, 158, 159, 161, 162, 163, 164, 165, 166, 167, 168, 169,\n       170, 171, 172, 173, 174, 175, 176, 177, 178, 179, 180, 181, 182,\n       183, 184, 185, 186, 187, 188, 189, 190, 191, 192, 193, 194, 195,\n       196, 197, 198, 199, 200, 201, 202, 203, 204, 205, 206, 207, 208,\n       209, 210, 211, 212, 213, 214, 215, 217, 218, 219, 220, 221, 222,\n       223, 224, 225, 226, 227, 228, 229, 230, 231, 232, 233, 234, 235,\n       236, 237, 238, 239, 240, 241, 242, 243, 244, 245, 246, 247, 248,\n       249, 250, 251, 252, 253, 254, 255, 256, 257, 258, 259, 260, 261,\n       262, 263, 264, 265, 266, 267, 268, 269, 270, 271, 272, 273, 274,\n       275, 276, 277, 278, 279, 280, 281, 282, 283, 284, 285])"
     },
     "execution_count": 5295,
     "metadata": {},
     "output_type": "execute_result"
    }
   ],
   "source": [
    "\n",
    "best_indices"
   ],
   "metadata": {
    "collapsed": false,
    "ExecuteTime": {
     "end_time": "2025-02-09T01:44:13.866245Z",
     "start_time": "2025-02-09T01:44:13.787297Z"
    }
   },
   "id": "f8af761a1362eda"
  },
  {
   "cell_type": "code",
   "execution_count": 5296,
   "outputs": [],
   "source": [
    "best_correlations_with_metrics = correlations_with_metrics.iloc[best_indices]"
   ],
   "metadata": {
    "collapsed": false,
    "ExecuteTime": {
     "end_time": "2025-02-09T01:44:14.403460Z",
     "start_time": "2025-02-09T01:44:14.334767Z"
    }
   },
   "id": "6152ca724dd81eb5"
  },
  {
   "cell_type": "code",
   "execution_count": 5297,
   "outputs": [
    {
     "data": {
      "text/plain": "array([  0,   1,   2,   3,   4,   5,   6,   7,   8,   9,  10,  11,  12,\n        13,  14,  15,  16,  17,  18,  19,  20,  21,  22,  23,  24,  25,\n        26,  27,  28,  29,  30,  31,  32,  33,  34,  35,  36,  37,  38,\n        39,  40,  41,  42,  43,  44,  45,  46,  47,  48,  49,  50,  51,\n        52,  53,  54,  55,  56,  57,  58,  59,  60,  61,  62,  63,  64,\n        65,  66,  67,  68,  69,  70,  71,  72,  73,  74,  75,  76,  77,\n        78,  79,  80,  81,  82,  83,  84,  85,  86,  87,  88,  89,  90,\n        91,  92,  93,  94,  95,  96,  97,  98,  99, 100, 101, 102, 103,\n       104, 105, 106, 107, 108, 109, 110, 111, 112, 113, 114, 115, 116,\n       117, 118, 119, 120, 121, 122, 123, 124, 125, 126, 127, 128, 129,\n       130, 131, 132, 133, 134, 135, 136, 137, 138, 139, 140, 141, 142,\n       143, 144, 145, 146, 147, 148, 149, 150, 151, 152, 153, 154, 155,\n       156, 157, 158, 159, 161, 162, 163, 164, 165, 166, 167, 168, 169,\n       170, 171, 172, 173, 174, 175, 176, 177, 178, 179, 180, 181, 182,\n       183, 184, 185, 186, 187, 188, 189, 190, 191, 192, 193, 194, 195,\n       196, 197, 198, 199, 200, 201, 202, 203, 204, 205, 206, 207, 208,\n       209, 210, 211, 212, 213, 214, 215, 217, 218, 219, 220, 221, 222,\n       223, 224, 225, 226, 227, 228, 229, 230, 231, 232, 233, 234, 235,\n       236, 237, 238, 239, 240, 241, 242, 243, 244, 245, 246, 247, 248,\n       249, 250, 251, 252, 253, 254, 255, 256, 257, 258, 259, 260, 261,\n       262, 263, 264, 265, 266, 267, 268, 269, 270, 271, 272, 273, 274,\n       275, 276, 277, 278, 279, 280, 281, 282, 283, 284, 285])"
     },
     "execution_count": 5297,
     "metadata": {},
     "output_type": "execute_result"
    }
   ],
   "source": [
    "best_indices"
   ],
   "metadata": {
    "collapsed": false,
    "ExecuteTime": {
     "end_time": "2025-02-09T01:44:15.084102Z",
     "start_time": "2025-02-09T01:44:15.013559Z"
    }
   },
   "id": "770ed16d7591fbdb"
  },
  {
   "cell_type": "code",
   "execution_count": 5298,
   "outputs": [],
   "source": [
    "x = set(correlations_with_metrics['q_idx_model'].tolist()) - set(best_correlations_with_metrics['q_idx_model'].tolist())"
   ],
   "metadata": {
    "collapsed": false,
    "ExecuteTime": {
     "end_time": "2025-02-09T01:44:16.048571Z",
     "start_time": "2025-02-09T01:44:15.968108Z"
    }
   },
   "id": "fd68f7d2f9cadb58"
  },
  {
   "cell_type": "code",
   "execution_count": 5299,
   "outputs": [],
   "source": [
    "m =[int(_.split(\"_\")[0]) for _ in x]"
   ],
   "metadata": {
    "collapsed": false,
    "ExecuteTime": {
     "end_time": "2025-02-09T01:44:16.420308Z",
     "start_time": "2025-02-09T01:44:16.349343Z"
    }
   },
   "id": "3f17df91328a1f29"
  },
  {
   "cell_type": "code",
   "execution_count": 5300,
   "outputs": [
    {
     "data": {
      "text/plain": "2"
     },
     "execution_count": 5300,
     "metadata": {},
     "output_type": "execute_result"
    }
   ],
   "source": [
    "len(m)"
   ],
   "metadata": {
    "collapsed": false,
    "ExecuteTime": {
     "end_time": "2025-02-09T01:44:16.811954Z",
     "start_time": "2025-02-09T01:44:16.741960Z"
    }
   },
   "id": "7abe00c242997df0"
  },
  {
   "cell_type": "code",
   "execution_count": 5247,
   "outputs": [
    {
     "data": {
      "text/plain": "144"
     },
     "execution_count": 5247,
     "metadata": {},
     "output_type": "execute_result"
    }
   ],
   "source": [
    "len(set(best_correlations_with_metrics['q_idx_x']))"
   ],
   "metadata": {
    "collapsed": false,
    "ExecuteTime": {
     "end_time": "2025-02-09T01:41:55.364349Z",
     "start_time": "2025-02-09T01:41:55.295403Z"
    }
   },
   "id": "4456b27f31cc7043"
  },
  {
   "cell_type": "code",
   "execution_count": 4360,
   "outputs": [
    {
     "data": {
      "text/plain": "398"
     },
     "execution_count": 4360,
     "metadata": {},
     "output_type": "execute_result"
    }
   ],
   "source": [
    "len(correlations_with_metrics)"
   ],
   "metadata": {
    "collapsed": false,
    "ExecuteTime": {
     "end_time": "2025-02-08T23:20:01.732757Z",
     "start_time": "2025-02-08T23:20:01.630276Z"
    }
   },
   "id": "426ea208c7f6b4f0"
  },
  {
   "cell_type": "code",
   "execution_count": 35,
   "outputs": [],
   "source": [
    "intersection = correlations_with_metrics[correlations_with_metrics['q_idx_model'].isin(sorted(set(correlations_with_metrics['q_idx_model']) - set(best_correlations_with_metrics['q_idx_model'])))]"
   ],
   "metadata": {
    "collapsed": false,
    "ExecuteTime": {
     "end_time": "2025-01-30T16:42:32.389375Z",
     "start_time": "2025-01-30T16:42:32.322871Z"
    }
   },
   "id": "bee5f13a91756c07"
  },
  {
   "cell_type": "code",
   "execution_count": 270,
   "outputs": [],
   "source": [
    "best_correlations_with_metrics.to_csv(f\"/Users/itaimondshine/PycharmProjects/NLP/eval_metrics/evaluations/experiments/correlations/best_config/{LANGUAGE}.csv\")"
   ],
   "metadata": {
    "collapsed": false,
    "ExecuteTime": {
     "end_time": "2025-01-29T22:02:43.140744Z",
     "start_time": "2025-01-29T22:02:43.009793Z"
    }
   },
   "id": "c01f0170721bf3cf"
  },
  {
   "cell_type": "code",
   "execution_count": 161,
   "outputs": [
    {
     "data": {
      "text/plain": "                                               key  \\\n79   A1YIGXBU6FQQ6C3PCPFX4U40RFU0P9YU3AT26M6KWQFG3   \n142  A257HDV8YVNC8834OWYT6U3WITCSADI0Y9A4TPCCKI9D1   \n\n                               answer  \\\n79                        Kevin Fret.   \n142  Eso no se detalla en el extracto   \n\n                                        gpt_prediction  \\\n79   El presidente Trump firmó una orden ejecutiva ...   \n142  El presidente Trump firmó una orden ejecutiva ...   \n\n                                          gpt_question  \\\n79   ¿Quién fue asesinado a tiros en Puerto Rico es...   \n142  ¿Qué revista desconocía Estrella Vázquez cuand...   \n\n                                               summary  gpt_grade  \\\n79   \"Vamos a poner a nuestros mineros a trabajar o...          5   \n142  \"Vamos a poner a nuestros mineros a trabajar o...          5   \n\n            work_id  task                    assignmentId consistence_gpt  \\\n79   A1YIGXBU6FQQ6C     3  3LYA37P8IQO6S0DS6P2J29ZP9HFBKA               2   \n142  A257HDV8YVNC88     1  35GCEFQ6I5PWE081RXQN75PQP2Y3ZO               3   \n\n     ...                          hit_id                  date_start n_sample  \\\n79   ...  3PCPFX4U40RFU0P9YU3AT26M6KWQFG  2025-01-27 08:20:03.217935        0   \n142  ...  34OWYT6U3WITCSADI0Y9A4TPCCKI9D  2025-01-27 16:18:20.684846        0   \n\n                    date_finish feedback  \\\n79   2025-01-27 08:22:21.627341            \n142  2025-01-27 16:38:41.527231            \n\n                                    original_gpt_grade coherence_gemini  \\\n79   The answer is a 5.  It correctly identifies th...                4   \n142  The answer is a 5. The text doesn't mention Es...                3   \n\n            location                                  gemini_prediction  \\\n79    Madrid, España  Bajo la \"Orden Ejecutiva de Independencia Ener...   \n142  Zapopan, Mexico  Bajo la \"Orden Ejecutiva de Independencia Ener...   \n\n    consistence_gemini  \n79                   4  \n142                  3  \n\n[2 rows x 21 columns]",
      "text/html": "<div>\n<style scoped>\n    .dataframe tbody tr th:only-of-type {\n        vertical-align: middle;\n    }\n\n    .dataframe tbody tr th {\n        vertical-align: top;\n    }\n\n    .dataframe thead th {\n        text-align: right;\n    }\n</style>\n<table border=\"1\" class=\"dataframe\">\n  <thead>\n    <tr style=\"text-align: right;\">\n      <th></th>\n      <th>key</th>\n      <th>answer</th>\n      <th>gpt_prediction</th>\n      <th>gpt_question</th>\n      <th>summary</th>\n      <th>gpt_grade</th>\n      <th>work_id</th>\n      <th>task</th>\n      <th>assignmentId</th>\n      <th>consistence_gpt</th>\n      <th>...</th>\n      <th>hit_id</th>\n      <th>date_start</th>\n      <th>n_sample</th>\n      <th>date_finish</th>\n      <th>feedback</th>\n      <th>original_gpt_grade</th>\n      <th>coherence_gemini</th>\n      <th>location</th>\n      <th>gemini_prediction</th>\n      <th>consistence_gemini</th>\n    </tr>\n  </thead>\n  <tbody>\n    <tr>\n      <th>79</th>\n      <td>A1YIGXBU6FQQ6C3PCPFX4U40RFU0P9YU3AT26M6KWQFG3</td>\n      <td>Kevin Fret.</td>\n      <td>El presidente Trump firmó una orden ejecutiva ...</td>\n      <td>¿Quién fue asesinado a tiros en Puerto Rico es...</td>\n      <td>\"Vamos a poner a nuestros mineros a trabajar o...</td>\n      <td>5</td>\n      <td>A1YIGXBU6FQQ6C</td>\n      <td>3</td>\n      <td>3LYA37P8IQO6S0DS6P2J29ZP9HFBKA</td>\n      <td>2</td>\n      <td>...</td>\n      <td>3PCPFX4U40RFU0P9YU3AT26M6KWQFG</td>\n      <td>2025-01-27 08:20:03.217935</td>\n      <td>0</td>\n      <td>2025-01-27 08:22:21.627341</td>\n      <td></td>\n      <td>The answer is a 5.  It correctly identifies th...</td>\n      <td>4</td>\n      <td>Madrid, España</td>\n      <td>Bajo la \"Orden Ejecutiva de Independencia Ener...</td>\n      <td>4</td>\n    </tr>\n    <tr>\n      <th>142</th>\n      <td>A257HDV8YVNC8834OWYT6U3WITCSADI0Y9A4TPCCKI9D1</td>\n      <td>Eso no se detalla en el extracto</td>\n      <td>El presidente Trump firmó una orden ejecutiva ...</td>\n      <td>¿Qué revista desconocía Estrella Vázquez cuand...</td>\n      <td>\"Vamos a poner a nuestros mineros a trabajar o...</td>\n      <td>5</td>\n      <td>A257HDV8YVNC88</td>\n      <td>1</td>\n      <td>35GCEFQ6I5PWE081RXQN75PQP2Y3ZO</td>\n      <td>3</td>\n      <td>...</td>\n      <td>34OWYT6U3WITCSADI0Y9A4TPCCKI9D</td>\n      <td>2025-01-27 16:18:20.684846</td>\n      <td>0</td>\n      <td>2025-01-27 16:38:41.527231</td>\n      <td></td>\n      <td>The answer is a 5. The text doesn't mention Es...</td>\n      <td>3</td>\n      <td>Zapopan, Mexico</td>\n      <td>Bajo la \"Orden Ejecutiva de Independencia Ener...</td>\n      <td>3</td>\n    </tr>\n  </tbody>\n</table>\n<p>2 rows × 21 columns</p>\n</div>"
     },
     "execution_count": 161,
     "metadata": {},
     "output_type": "execute_result"
    }
   ],
   "source": [
    "all[all['n_sample'] == 0]"
   ],
   "metadata": {
    "collapsed": false,
    "ExecuteTime": {
     "end_time": "2025-01-30T08:16:56.467423Z",
     "start_time": "2025-01-30T08:16:56.319616Z"
    }
   },
   "id": "e6069b6787dbe750"
  },
  {
   "cell_type": "code",
   "execution_count": 160,
   "outputs": [],
   "source": [
    "all = pd.DataFrame(documents)"
   ],
   "metadata": {
    "collapsed": false,
    "ExecuteTime": {
     "end_time": "2025-01-30T08:16:43.957550Z",
     "start_time": "2025-01-30T08:16:43.922562Z"
    }
   },
   "id": "93a4fb1767c21209"
  },
  {
   "cell_type": "code",
   "execution_count": 163,
   "outputs": [],
   "source": [
    "with_corrutped = pd.read_csv(\"/Users/itaimondshine/PycharmProjects/NLP/eval_metrics/app/app_data/corrupted/spanish.csv\")"
   ],
   "metadata": {
    "collapsed": false,
    "ExecuteTime": {
     "end_time": "2025-01-30T08:18:41.007430Z",
     "start_time": "2025-01-30T08:18:40.915630Z"
    }
   },
   "id": "1546f54468e23040"
  },
  {
   "cell_type": "code",
   "execution_count": 173,
   "outputs": [
    {
     "data": {
      "text/plain": "35    0\nName: strategy, dtype: int64"
     },
     "execution_count": 173,
     "metadata": {},
     "output_type": "execute_result"
    }
   ],
   "source": [
    "with_corrutped[with_corrutped['q_idx'] == 259]['strategy']"
   ],
   "metadata": {
    "collapsed": false,
    "ExecuteTime": {
     "end_time": "2025-01-30T08:20:45.352478Z",
     "start_time": "2025-01-30T08:20:45.317920Z"
    }
   },
   "id": "818e0c32aca6cbb1"
  },
  {
   "cell_type": "code",
   "execution_count": null,
   "outputs": [],
   "source": [],
   "metadata": {
    "collapsed": false
   },
   "id": "b23366faf1b19f08"
  }
 ],
 "metadata": {
  "kernelspec": {
   "display_name": "Python 3",
   "language": "python",
   "name": "python3"
  },
  "language_info": {
   "codemirror_mode": {
    "name": "ipython",
    "version": 2
   },
   "file_extension": ".py",
   "mimetype": "text/x-python",
   "name": "python",
   "nbconvert_exporter": "python",
   "pygments_lexer": "ipython2",
   "version": "2.7.6"
  }
 },
 "nbformat": 4,
 "nbformat_minor": 5
}
