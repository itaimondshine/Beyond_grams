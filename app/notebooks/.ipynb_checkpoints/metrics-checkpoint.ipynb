{
 "cells": [
  {
   "cell_type": "markdown",
   "source": [
    "## Calculate Metrics Matrix"
   ],
   "metadata": {
    "collapsed": false
   },
   "id": "ad9b91b13f5d820d"
  },
  {
   "cell_type": "code",
   "execution_count": null,
   "outputs": [],
   "source": [
    "import pandas as pd"
   ],
   "metadata": {
    "collapsed": false,
    "is_executing": true
   },
   "id": "e7e3ce2e172ced6"
  },
  {
   "cell_type": "markdown",
   "source": [
    "# ROUGE, CHRF, METEOR, Comet\n",
    "\n",
    "# Full Pipeline\n",
    "\n",
    "LANGUAGE = \"spanish\"\n",
    "# Load Data\n",
    "\n",
    "data = pd.\n"
   ],
   "metadata": {
    "collapsed": false
   },
   "id": "3c15d3a05da1f975"
  }
 ],
 "metadata": {
  "kernelspec": {
   "name": "lemma",
   "language": "python",
   "display_name": "lemma"
  },
  "language_info": {
   "codemirror_mode": {
    "name": "ipython",
    "version": 2
   },
   "file_extension": ".py",
   "mimetype": "text/x-python",
   "name": "python",
   "nbconvert_exporter": "python",
   "pygments_lexer": "ipython2",
   "version": "2.7.6"
  }
 },
 "nbformat": 4,
 "nbformat_minor": 5
}
