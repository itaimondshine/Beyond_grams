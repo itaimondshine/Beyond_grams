{
 "cells": [
  {
   "cell_type": "markdown",
   "id": "ad9b91b13f5d820d",
   "metadata": {
    "collapsed": false
   },
   "source": [
    "## Calculate Metrics Matrix"
   ]
  },
  {
   "cell_type": "code",
   "execution_count": 1,
   "id": "e7e3ce2e172ced6",
   "metadata": {
    "collapsed": false,
    "ExecuteTime": {
     "end_time": "2024-09-03T21:30:26.715252Z",
     "start_time": "2024-09-03T21:30:26.017804Z"
    }
   },
   "outputs": [],
   "source": [
    "import pandas as pd"
   ]
  },
  {
   "cell_type": "code",
   "execution_count": 1,
   "outputs": [
    {
     "name": "stdout",
     "output_type": "stream",
     "text": [
      "Package                      Version\r\n",
      "---------------------------- --------\r\n",
      "annotated-types              0.6.0\r\n",
      "asttokens                    2.4.1\r\n",
      "cachetools                   5.3.3\r\n",
      "certifi                      2024.2.2\r\n",
      "charset-normalizer           3.3.2\r\n",
      "decorator                    5.1.1\r\n",
      "editables                    0.5\r\n",
      "executing                    2.0.1\r\n",
      "flit_core                    3.9.0\r\n",
      "google-ai-generativelanguage 0.4.0\r\n",
      "google-api-core              2.18.0\r\n",
      "google-auth                  2.29.0\r\n",
      "google-generativeai          0.4.1\r\n",
      "googleapis-common-protos     1.63.0\r\n",
      "grpcio                       1.62.1\r\n",
      "grpcio-status                1.62.1\r\n",
      "hatchling                    1.21.0\r\n",
      "idna                         3.6\r\n",
      "ipython                      8.23.0\r\n",
      "jedi                         0.19.1\r\n",
      "matplotlib-inline            0.1.6\r\n",
      "packaging                    23.2\r\n",
      "parso                        0.8.3\r\n",
      "pathspec                     0.12.1\r\n",
      "pexpect                      4.9.0\r\n",
      "pip                          24.0\r\n",
      "pluggy                       1.3.0\r\n",
      "prompt-toolkit               3.0.43\r\n",
      "proto-plus                   1.23.0\r\n",
      "protobuf                     4.25.3\r\n",
      "ptyprocess                   0.7.0\r\n",
      "pure-eval                    0.2.2\r\n",
      "pyasn1                       0.6.0\r\n",
      "pyasn1_modules               0.4.0\r\n",
      "pydantic                     2.6.4\r\n",
      "pydantic_core                2.16.3\r\n",
      "Pygments                     2.17.2\r\n",
      "requests                     2.31.0\r\n",
      "rsa                          4.9\r\n",
      "setuptools                   69.0.3\r\n",
      "setuptools-scm               8.0.4\r\n",
      "six                          1.16.0\r\n",
      "stack-data                   0.6.3\r\n",
      "tqdm                         4.66.2\r\n",
      "traitlets                    5.14.2\r\n",
      "trove-classifiers            0.0.0\r\n",
      "typing_extensions            4.9.0\r\n",
      "urllib3                      2.2.1\r\n",
      "wcwidth                      0.2.13\r\n",
      "wheel                        0.42.0\r\n",
      "\r\n",
      "\u001B[1m[\u001B[0m\u001B[34;49mnotice\u001B[0m\u001B[1;39;49m]\u001B[0m\u001B[39;49m A new release of pip is available: \u001B[0m\u001B[31;49m24.0\u001B[0m\u001B[39;49m -> \u001B[0m\u001B[32;49m24.2\u001B[0m\r\n",
      "\u001B[1m[\u001B[0m\u001B[34;49mnotice\u001B[0m\u001B[1;39;49m]\u001B[0m\u001B[39;49m To update, run: \u001B[0m\u001B[32;49mpython3.12 -m pip install --upgrade pip\u001B[0m\r\n"
     ]
    }
   ],
   "source": [
    "!pip list"
   ],
   "metadata": {
    "collapsed": false,
    "ExecuteTime": {
     "end_time": "2024-09-03T22:24:10.390276Z",
     "start_time": "2024-09-03T22:24:08.550139Z"
    }
   },
   "id": "aba6cb62f17ccda6"
  },
  {
   "cell_type": "code",
   "execution_count": 2,
   "id": "7f2f6408-2b7f-4c4b-86ff-7699eaf2b275",
   "metadata": {
    "collapsed": false
   },
   "outputs": [],
   "source": [
    "# ROUGE, CHRF, METEOR, Comet\n",
    "\n",
    "# Full Pipeline\n",
    "\n",
    "LANGUAGE = \"spanish\"\n",
    "# Load Data\n",
    "\n",
    "data = pd.read_csv(f\"/Users/itaimondshine/PycharmProjects/NLP/eval_metrics/app/xlsum/{LANGUAGE}/pred.csv\")\n",
    "gemini_prediction = data['gemini_prediction'].tolist()\n",
    "label = data['label'].tolist()\n",
    "gpt_prediction = data['gpt_prediction'].tolist()"
   ]
  },
  {
   "cell_type": "code",
   "execution_count": 3,
   "id": "23b7e527-f81a-4968-833b-82287da0803a",
   "metadata": {},
   "outputs": [
    {
     "data": {
      "text/plain": [
       "'El presidente Trump firmó una orden ejecutiva para desmantelar las políticas medioambientales de su predecesor, Barack Obama, y promover el uso de combustibles fósiles. Esta medida ha sido criticada por organizaciones medioambientales y podría afectar los compromisos adquiridos por Estados Unidos en el acuerdo de cambio climático de París.'"
      ]
     },
     "execution_count": 3,
     "metadata": {},
     "output_type": "execute_result"
    }
   ],
   "source": [
    "gpt_prediction[0]"
   ]
  },
  {
   "cell_type": "code",
   "execution_count": 4,
   "id": "769fcb60-8fea-4468-b804-d73f71aa9b22",
   "metadata": {},
   "outputs": [],
   "source": [
    "# from rouge_score import rouge_scorer"
   ]
  },
  {
   "cell_type": "code",
   "execution_count": 5,
   "id": "d3a3d8e0-3cdc-4794-baa3-9c894931edfb",
   "metadata": {},
   "outputs": [],
   "source": [
    "# Automatic Metrics\n",
    "\n",
    "rouge1, rouge2, rougeL = [], [], []\n",
    "\n",
    "def compute_rouge(scorer, pred, label):\n",
    "    score = scorer.score(pred, label)\n",
    "    return score[\"rouge1\"], score[\"rouge2\"], score[\"rougeL\"]\n",
    "\n",
    "# ROUGE (1,2,L)\n",
    "def rouge_score(prediction, label):\n",
    "    scorer = rouge_scorer.RougeScorer([\"rouge1\", \"rouge2\", \"rougeL\"], use_stemmer=True)\n",
    "    r1, r2, rL = compute_rouge(scorer, prediction, label)\n",
    "    print(r1)\n",
    "    rouge1.append(r1.fmeasure)\n",
    "    rouge2.append(r2.fmeasure)\n",
    "    rougeL.append(rL.fmeasure)\n",
    "\n"
   ]
  },
  {
   "cell_type": "code",
   "execution_count": 6,
   "id": "3e8a7804-3bd4-48f1-a17d-05e90f75ac32",
   "metadata": {},
   "outputs": [],
   "source": [
    "# rouge_score(gpt_prediction[0], gpt_prediction[0])"
   ]
  },
  {
   "cell_type": "code",
   "execution_count": 7,
   "id": "069e01d3-bb2e-4338-a573-13e6fc0a19e6",
   "metadata": {},
   "outputs": [],
   "source": [
    "# BertScore\n",
    "\n",
    "def calc_bert_score(summaries, references):\n",
    "    from summ_eval.bert_score_metric import BertScoreMetric\n",
    "    b = BertScoreMetric()\n",
    "    b.evaluate_batch(summaries, references)"
   ]
  },
  {
   "cell_type": "code",
   "execution_count": 8,
   "id": "6eac9786-02ab-44ec-b638-2349e518b351",
   "metadata": {},
   "outputs": [],
   "source": [
    "def calc_bert_score(summaries, references):\n",
    "    from summ_eval.blanc_metric import BlancMetric\n",
    "    b = BlancMetric()\n",
    "    b.evaluate_batch(summaries, references)"
   ]
  },
  {
   "cell_type": "code",
   "execution_count": 9,
   "id": "d143d0b8a61c0506",
   "metadata": {
    "collapsed": false
   },
   "outputs": [],
   "source": [
    "def calc_bleu_metric(summaries, references):\n",
    "    from summ_eval.blanc_metric import BleuMetric\n",
    "    b = BleuMetric()\n",
    "    b.evaluate_batch(summaries, references)"
   ]
  },
  {
   "cell_type": "code",
   "execution_count": 10,
   "id": "816770d51f014829",
   "metadata": {
    "ExecuteTime": {
     "end_time": "2024-09-03T21:09:11.070019Z",
     "start_time": "2024-09-03T21:09:11.064331Z"
    },
    "collapsed": false
   },
   "outputs": [],
   "source": [
    "def calc_chrf_metric(summaries, references):\n",
    "    from summ_eval.chrfpp_metric import ChrfppMetric\n",
    "    b = ChrfppMetric()\n",
    "    b.evaluate_batch(summaries, references)"
   ]
  },
  {
   "cell_type": "code",
   "execution_count": 11,
   "id": "13779b3b29fcaf4d",
   "metadata": {
    "collapsed": false
   },
   "outputs": [],
   "source": [
    "def calc_cider_metric(summaries, references):\n",
    "    from summ_eval.cider_metric import CiderMetric\n",
    "    b = CiderMetric()\n",
    "    b.evaluate_batch(summaries, references)"
   ]
  },
  {
   "cell_type": "code",
   "execution_count": 12,
   "id": "eeb2bc0027fab4f8",
   "metadata": {
    "collapsed": false
   },
   "outputs": [],
   "source": [
    "def calc_meteor_metric(summaries, references):\n",
    "    from summ_eval.meteor_metric import MeteorMetric\n",
    "    b = MeteorMetric()\n",
    "    b.evaluate_batch(summaries, references)"
   ]
  },
  {
   "cell_type": "code",
   "execution_count": 6,
   "id": "d78d811a-a75f-4604-9651-9121e9dab16e",
   "metadata": {
    "ExecuteTime": {
     "end_time": "2024-09-03T22:22:20.721485Z",
     "start_time": "2024-09-03T22:22:20.408533Z"
    }
   },
   "outputs": [
    {
     "ename": "ModuleNotFoundError",
     "evalue": "No module named 'summ_eval'",
     "output_type": "error",
     "traceback": [
      "\u001B[0;31m---------------------------------------------------------------------------\u001B[0m",
      "\u001B[0;31mModuleNotFoundError\u001B[0m                       Traceback (most recent call last)",
      "Cell \u001B[0;32mIn[6], line 1\u001B[0m\n\u001B[0;32m----> 1\u001B[0m \u001B[38;5;28;01mfrom\u001B[39;00m \u001B[38;5;21;01msumm_eval\u001B[39;00m\u001B[38;5;21;01m.\u001B[39;00m\u001B[38;5;21;01mblanc_metric\u001B[39;00m \u001B[38;5;28;01mimport\u001B[39;00m BlancMetric\n\u001B[1;32m      2\u001B[0m b \u001B[38;5;241m=\u001B[39m BlancMetric()\n",
      "\u001B[0;31mModuleNotFoundError\u001B[0m: No module named 'summ_eval'"
     ]
    }
   ],
   "source": [
    "from summ_eval.blanc_metric import BlancMetric\n",
    "b = BlancMetric()"
   ]
  },
  {
   "cell_type": "code",
   "execution_count": 3,
   "id": "d82a3743-7101-402a-abf8-5854ce069a56",
   "metadata": {
    "ExecuteTime": {
     "end_time": "2024-09-03T21:31:41.428785Z",
     "start_time": "2024-09-03T21:31:40.118705Z"
    }
   },
   "outputs": [
    {
     "name": "stdout",
     "output_type": "stream",
     "text": [
      "\r\n",
      "Usage:   \r\n",
      "  pip <command> [options]\r\n",
      "\r\n",
      "Commands:\r\n",
      "  install                     Install packages.\r\n",
      "  download                    Download packages.\r\n",
      "  uninstall                   Uninstall packages.\r\n",
      "  freeze                      Output installed packages in requirements format.\r\n",
      "  inspect                     Inspect the python environment.\r\n",
      "  list                        List installed packages.\r\n",
      "  show                        Show information about installed packages.\r\n",
      "  check                       Verify installed packages have compatible dependencies.\r\n",
      "  config                      Manage local and global configuration.\r\n",
      "  search                      Search PyPI for packages.\r\n",
      "  cache                       Inspect and manage pip's wheel cache.\r\n",
      "  index                       Inspect information available from package indexes.\r\n",
      "  wheel                       Build wheels from your requirements.\r\n",
      "  hash                        Compute hashes of package archives.\r\n",
      "  completion                  A helper command used for command completion.\r\n",
      "  debug                       Show information useful for debugging.\r\n",
      "  help                        Show help for commands.\r\n",
      "\r\n",
      "General Options:\r\n",
      "  -h, --help                  Show help.\r\n",
      "  --debug                     Let unhandled exceptions propagate outside the\r\n",
      "                              main subroutine, instead of logging them to\r\n",
      "                              stderr.\r\n",
      "  --isolated                  Run pip in an isolated mode, ignoring\r\n",
      "                              environment variables and user configuration.\r\n",
      "  --require-virtualenv        Allow pip to only run in a virtual environment;\r\n",
      "                              exit with an error otherwise.\r\n",
      "  --python <python>           Run pip with the specified Python interpreter.\r\n",
      "  -v, --verbose               Give more output. Option is additive, and can be\r\n",
      "                              used up to 3 times.\r\n",
      "  -V, --version               Show version and exit.\r\n",
      "  -q, --quiet                 Give less output. Option is additive, and can be\r\n",
      "                              used up to 3 times (corresponding to WARNING,\r\n",
      "                              ERROR, and CRITICAL logging levels).\r\n",
      "  --log <path>                Path to a verbose appending log.\r\n",
      "  --no-input                  Disable prompting for input.\r\n",
      "  --keyring-provider <keyring_provider>\r\n",
      "                              Enable the credential lookup via the keyring\r\n",
      "                              library if user input is allowed. Specify which\r\n",
      "                              mechanism to use [disabled, import, subprocess].\r\n",
      "                              (default: disabled)\r\n",
      "  --proxy <proxy>             Specify a proxy in the form\r\n",
      "                              scheme://[user:passwd@]proxy.server:port.\r\n",
      "  --retries <retries>         Maximum number of retries each connection should\r\n",
      "                              attempt (default 5 times).\r\n",
      "  --timeout <sec>             Set the socket timeout (default 15 seconds).\r\n",
      "  --exists-action <action>    Default action when a path already exists:\r\n",
      "                              (s)witch, (i)gnore, (w)ipe, (b)ackup, (a)bort.\r\n",
      "  --trusted-host <hostname>   Mark this host or host:port pair as trusted,\r\n",
      "                              even though it does not have valid or any HTTPS.\r\n",
      "  --cert <path>               Path to PEM-encoded CA certificate bundle. If\r\n",
      "                              provided, overrides the default. See 'SSL\r\n",
      "                              Certificate Verification' in pip documentation\r\n",
      "                              for more information.\r\n",
      "  --client-cert <path>        Path to SSL client certificate, a single file\r\n",
      "                              containing the private key and the certificate\r\n",
      "                              in PEM format.\r\n",
      "  --cache-dir <dir>           Store the cache data in <dir>.\r\n",
      "  --no-cache-dir              Disable the cache.\r\n",
      "  --disable-pip-version-check\r\n",
      "                              Don't periodically check PyPI to determine\r\n",
      "                              whether a new version of pip is available for\r\n",
      "                              download. Implied with --no-index.\r\n",
      "  --no-color                  Suppress colored output.\r\n",
      "  --no-python-version-warning\r\n",
      "                              Silence deprecation warnings for upcoming\r\n",
      "                              unsupported Pythons.\r\n",
      "  --use-feature <feature>     Enable new functionality, that may be backward\r\n",
      "                              incompatible.\r\n",
      "  --use-deprecated <feature>  Enable deprecated functionality, that will be\r\n",
      "                              removed in the future.\r\n"
     ]
    }
   ],
   "source": [
    "!pip -v"
   ]
  },
  {
   "cell_type": "code",
   "execution_count": 5,
   "id": "9e27bcaa-da99-4451-95ec-5d2d51fa6de9",
   "metadata": {
    "ExecuteTime": {
     "end_time": "2024-09-03T21:34:20.954739Z",
     "start_time": "2024-09-03T21:34:20.947272Z"
    }
   },
   "outputs": [
    {
     "name": "stdout",
     "output_type": "stream",
     "text": [
      "/Library/Frameworks/Python.framework/Versions/3.8/bin/python3.8\n"
     ]
    }
   ],
   "source": [
    "import sys\n",
    "print(sys.executable)"
   ]
  },
  {
   "cell_type": "code",
   "execution_count": null,
   "id": "a6141efb-6689-49b7-9e86-525f9dede2c2",
   "metadata": {},
   "outputs": [],
   "source": []
  }
 ],
 "metadata": {
  "kernelspec": {
   "name": "eval_metrics",
   "language": "python",
   "display_name": "eval_metrics"
  },
  "language_info": {
   "codemirror_mode": {
    "name": "ipython",
    "version": 3
   },
   "file_extension": ".py",
   "mimetype": "text/x-python",
   "name": "python",
   "nbconvert_exporter": "python",
   "pygments_lexer": "ipython3",
   "version": "3.8.5"
  }
 },
 "nbformat": 4,
 "nbformat_minor": 5
}
